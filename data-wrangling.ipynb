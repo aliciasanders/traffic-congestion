{
 "cells": [
  {
   "cell_type": "markdown",
   "metadata": {},
   "source": [
    "# Capstone 1 Data Wrangling\n",
    "\n",
    "In this project, I will collect and clean the datasets that will be used in my Capstone 1\n",
    "\n",
    "To begin, I downloaded the csv files for the 3 datasets from data.cityofchicago.org. The datasets used are:\n",
    "\n",
    "1. Transportation Network Providers - Trips: https://data.cityofchicago.org/Transportation/Transportation-Network-Providers-Trips/m6dm-c72p\n",
    "2. CTA - Ridership - 'L' Station Entries - Daily Totals: https://data.cityofchicago.org/Transportation/CTA-Ridership-L-Station-Entries-Daily-Totals/5neh-572f\n",
    "3. Chicago Traffic Tracker - Historical Congestion Estimates by Region - 2018-Current: https://data.cityofchicago.org/dataset/Chicago-Traffic-Tracker-Historical-Congestion-Esti/kf7e-cur8"
   ]
  },
  {
   "cell_type": "code",
   "execution_count": 2,
   "metadata": {},
   "outputs": [],
   "source": [
    "import pandas as pd\n",
    "import matplotlib.pyplot as plt"
   ]
  },
  {
   "cell_type": "markdown",
   "metadata": {},
   "source": [
    "## Previewing Data\n",
    "\n",
    "I select the relevant columns from the datasets (all columns from the 'L' station dataset are used), then read the firse few rows of the csv using pandas read_csv function. These first few rows will be used to get a quick overview of the structure of the datasets and to find any potential problems that can be solved before processign the whole dataset.\n",
    "\n",
    "Additionally, the read_csv call specifies that certain columns should be parsed as datetimes, and defines the index columns for the datasets.  \n",
    "For the rideshare dataset, trip id is the index column.  \n",
    "For the congestion dataset, time and region id together form the multiindex.  \n",
    "Finally, date and station id form the multiindex for the 'L' station dataset."
   ]
  },
  {
   "cell_type": "code",
   "execution_count": 26,
   "metadata": {},
   "outputs": [],
   "source": [
    "# Define relevant columns for the datasets\n",
    "rideshare_columns = [('Trip ID', 'trip_id'),\n",
    "                     ('Trip Start Timestamp', 'start_time'),\n",
    "                     ('Trip End Timestamp', 'end_time'),\n",
    "                     ('Pickup Centroid Latitude', 'pickup_lat'),\n",
    "                     ('Pickup Centroid Longitude', 'pickup_long'),\n",
    "                     ('Dropoff Centroid Latitude', 'dropoff_lat'),\n",
    "                     ('Dropoff Centroid Longitude', 'dropoff_long')]\n",
    "rideshare_source_columns, rideshare_column_names = list(zip(*rideshare_columns)) \n",
    "\n",
    "congestion_columns = [('TIME','time'),\n",
    "                      ('REGION_ID','region_id'),\n",
    "                      ('SPEED','speed'),\n",
    "                      ('REGION','region'),\n",
    "                      ('BUS_COUNT','bus_count'),\n",
    "                      ('NUM_READS','num_reads'),\n",
    "                      ('WEST','west'),\n",
    "                      ('EAST','east'),\n",
    "                      ('SOUTH','south'),\n",
    "                      ('NORTH','north')]\n",
    "congestion_source_columns, congestion_column_names = list(zip(*congestion_columns)) \n",
    "\n",
    "station_columns = [('station_id', 'station_id'),\n",
    "                   ('stationname', 'station_name'),\n",
    "                   ('date', 'date'),\n",
    "                   ('rides', 'rides')]\n",
    "station_source_columns, station_column_names = list(zip(*station_columns)) \n",
    "\n",
    "# load dataframes from csv files\n",
    "rideshares = pd.read_csv(\"data/rideshares_raw.csv\", \n",
    "                         parse_dates=['Trip Start Timestamp', 'Trip End Timestamp'], \n",
    "                         usecols=rideshare_source_columns,\n",
    "                         nrows=10000)\n",
    "rideshares.columns = rideshare_column_names\n",
    "rideshares = rideshares.set_index('trip_id')\n",
    "\n",
    "congestion = pd.read_csv(\"data/congestion_raw.csv\",\n",
    "                         parse_dates=['TIME'],\n",
    "                         usecols=congestion_source_columns,\n",
    "                         #nrows=10000\n",
    "                        )\n",
    "congestion.columns = congestion_column_names\n",
    "congestion = congestion.set_index(['time', 'region_id'])\n",
    "congestion = congestion.sort_index()\n",
    "\n",
    "station_entries = pd.read_csv(\"data/station_entries_raw.csv\",\n",
    "                              parse_dates=['date'],\n",
    "                              usecols=station_source_columns,\n",
    "                              #nrows=10000\n",
    "                             )\n",
    "station_entries.columns = station_column_names\n",
    "station_entries = station_entries.set_index(['date', 'station_id'])\n",
    "station_entries = station_entries.sort_index()\n"
   ]
  },
  {
   "cell_type": "markdown",
   "metadata": {},
   "source": [
    "### Rideshare dataset preview"
   ]
  },
  {
   "cell_type": "code",
   "execution_count": 3,
   "metadata": {},
   "outputs": [
    {
     "name": "stdout",
     "output_type": "stream",
     "text": [
      "<class 'pandas.core.frame.DataFrame'>\n",
      "Index: 10000 entries, 1e0d07bb2409f2e44980d2101d24cd1808fc1691 to 1e244b21b99860cdac7fea90566a02013b5c5b3e\n",
      "Data columns (total 6 columns):\n",
      "start_time      10000 non-null datetime64[ns]\n",
      "end_time        10000 non-null datetime64[ns]\n",
      "pickup_lat      9402 non-null float64\n",
      "pickup_long     9402 non-null float64\n",
      "dropoff_lat     9306 non-null float64\n",
      "dropoff_long    9306 non-null float64\n",
      "dtypes: datetime64[ns](2), float64(4)\n",
      "memory usage: 546.9+ KB\n"
     ]
    }
   ],
   "source": [
    "rideshares.info()"
   ]
  },
  {
   "cell_type": "markdown",
   "metadata": {},
   "source": [
    "From the first 1000 lines we can see that some of the entries lack pickup and dropoff locations. These entries will need to be cleaned. Otherwise, the data looks to be in good shape"
   ]
  },
  {
   "cell_type": "code",
   "execution_count": 37,
   "metadata": {},
   "outputs": [
    {
     "data": {
      "text/html": [
       "<div>\n",
       "<style scoped>\n",
       "    .dataframe tbody tr th:only-of-type {\n",
       "        vertical-align: middle;\n",
       "    }\n",
       "\n",
       "    .dataframe tbody tr th {\n",
       "        vertical-align: top;\n",
       "    }\n",
       "\n",
       "    .dataframe thead th {\n",
       "        text-align: right;\n",
       "    }\n",
       "</style>\n",
       "<table border=\"1\" class=\"dataframe\">\n",
       "  <thead>\n",
       "    <tr style=\"text-align: right;\">\n",
       "      <th></th>\n",
       "      <th>pickup_lat</th>\n",
       "      <th>pickup_long</th>\n",
       "      <th>dropoff_lat</th>\n",
       "      <th>dropoff_long</th>\n",
       "    </tr>\n",
       "  </thead>\n",
       "  <tbody>\n",
       "    <tr>\n",
       "      <td>count</td>\n",
       "      <td>9402.000000</td>\n",
       "      <td>9402.000000</td>\n",
       "      <td>9306.000000</td>\n",
       "      <td>9306.000000</td>\n",
       "    </tr>\n",
       "    <tr>\n",
       "      <td>mean</td>\n",
       "      <td>41.892275</td>\n",
       "      <td>-87.666035</td>\n",
       "      <td>41.893289</td>\n",
       "      <td>-87.668027</td>\n",
       "    </tr>\n",
       "    <tr>\n",
       "      <td>std</td>\n",
       "      <td>0.060939</td>\n",
       "      <td>0.062798</td>\n",
       "      <td>0.060665</td>\n",
       "      <td>0.066117</td>\n",
       "    </tr>\n",
       "    <tr>\n",
       "      <td>min</td>\n",
       "      <td>41.660136</td>\n",
       "      <td>-87.913625</td>\n",
       "      <td>41.660136</td>\n",
       "      <td>-87.913625</td>\n",
       "    </tr>\n",
       "    <tr>\n",
       "      <td>25%</td>\n",
       "      <td>41.877406</td>\n",
       "      <td>-87.679600</td>\n",
       "      <td>41.877406</td>\n",
       "      <td>-87.678688</td>\n",
       "    </tr>\n",
       "    <tr>\n",
       "      <td>50%</td>\n",
       "      <td>41.893216</td>\n",
       "      <td>-87.651311</td>\n",
       "      <td>41.893216</td>\n",
       "      <td>-87.651311</td>\n",
       "    </tr>\n",
       "    <tr>\n",
       "      <td>75%</td>\n",
       "      <td>41.929263</td>\n",
       "      <td>-87.631407</td>\n",
       "      <td>41.929330</td>\n",
       "      <td>-87.631407</td>\n",
       "    </tr>\n",
       "    <tr>\n",
       "      <td>max</td>\n",
       "      <td>42.021224</td>\n",
       "      <td>-87.534903</td>\n",
       "      <td>42.021224</td>\n",
       "      <td>-87.534903</td>\n",
       "    </tr>\n",
       "  </tbody>\n",
       "</table>\n",
       "</div>"
      ],
      "text/plain": [
       "        pickup_lat  pickup_long  dropoff_lat  dropoff_long\n",
       "count  9402.000000  9402.000000  9306.000000   9306.000000\n",
       "mean     41.892275   -87.666035    41.893289    -87.668027\n",
       "std       0.060939     0.062798     0.060665      0.066117\n",
       "min      41.660136   -87.913625    41.660136    -87.913625\n",
       "25%      41.877406   -87.679600    41.877406    -87.678688\n",
       "50%      41.893216   -87.651311    41.893216    -87.651311\n",
       "75%      41.929263   -87.631407    41.929330    -87.631407\n",
       "max      42.021224   -87.534903    42.021224    -87.534903"
      ]
     },
     "execution_count": 37,
     "metadata": {},
     "output_type": "execute_result"
    }
   ],
   "source": [
    "rideshares.describe()"
   ]
  },
  {
   "cell_type": "markdown",
   "metadata": {},
   "source": [
    "### Congestion Dataset Preview"
   ]
  },
  {
   "cell_type": "code",
   "execution_count": 24,
   "metadata": {},
   "outputs": [
    {
     "name": "stdout",
     "output_type": "stream",
     "text": [
      "<class 'pandas.core.frame.DataFrame'>\n",
      "MultiIndex: 2805719 entries, (2018-03-09 15:40:41, 1) to (2020-03-09 09:11:25, 29)\n",
      "Data columns (total 8 columns):\n",
      "speed        float64\n",
      "region       object\n",
      "bus_count    int64\n",
      "num_reads    int64\n",
      "west         float64\n",
      "east         float64\n",
      "south        float64\n",
      "north        float64\n",
      "dtypes: float64(5), int64(2), object(1)\n",
      "memory usage: 185.5+ MB\n"
     ]
    }
   ],
   "source": [
    "congestion.info()"
   ]
  },
  {
   "cell_type": "markdown",
   "metadata": {},
   "source": [
    "congestion.info() shows that the columns seem to be properly formatted and complete."
   ]
  },
  {
   "cell_type": "code",
   "execution_count": 25,
   "metadata": {},
   "outputs": [
    {
     "data": {
      "text/html": [
       "<div>\n",
       "<style scoped>\n",
       "    .dataframe tbody tr th:only-of-type {\n",
       "        vertical-align: middle;\n",
       "    }\n",
       "\n",
       "    .dataframe tbody tr th {\n",
       "        vertical-align: top;\n",
       "    }\n",
       "\n",
       "    .dataframe thead th {\n",
       "        text-align: right;\n",
       "    }\n",
       "</style>\n",
       "<table border=\"1\" class=\"dataframe\">\n",
       "  <thead>\n",
       "    <tr style=\"text-align: right;\">\n",
       "      <th></th>\n",
       "      <th>speed</th>\n",
       "      <th>bus_count</th>\n",
       "      <th>num_reads</th>\n",
       "      <th>west</th>\n",
       "      <th>east</th>\n",
       "      <th>south</th>\n",
       "      <th>north</th>\n",
       "    </tr>\n",
       "  </thead>\n",
       "  <tbody>\n",
       "    <tr>\n",
       "      <td>count</td>\n",
       "      <td>2.805719e+06</td>\n",
       "      <td>2.805719e+06</td>\n",
       "      <td>2.805719e+06</td>\n",
       "      <td>2.805719e+06</td>\n",
       "      <td>2.805719e+06</td>\n",
       "      <td>2.805719e+06</td>\n",
       "      <td>2.805719e+06</td>\n",
       "    </tr>\n",
       "    <tr>\n",
       "      <td>mean</td>\n",
       "      <td>2.304333e+01</td>\n",
       "      <td>3.642927e+01</td>\n",
       "      <td>6.666114e+02</td>\n",
       "      <td>-8.770191e+01</td>\n",
       "      <td>-8.764235e+01</td>\n",
       "      <td>4.182452e+01</td>\n",
       "      <td>4.186771e+01</td>\n",
       "    </tr>\n",
       "    <tr>\n",
       "      <td>std</td>\n",
       "      <td>8.506232e+00</td>\n",
       "      <td>2.909417e+01</td>\n",
       "      <td>5.500713e+02</td>\n",
       "      <td>6.765980e-02</td>\n",
       "      <td>6.250787e-02</td>\n",
       "      <td>9.740192e-02</td>\n",
       "      <td>9.437662e-02</td>\n",
       "    </tr>\n",
       "    <tr>\n",
       "      <td>min</td>\n",
       "      <td>0.000000e+00</td>\n",
       "      <td>0.000000e+00</td>\n",
       "      <td>0.000000e+00</td>\n",
       "      <td>-8.784621e+01</td>\n",
       "      <td>-8.774746e+01</td>\n",
       "      <td>4.164414e+01</td>\n",
       "      <td>4.167748e+01</td>\n",
       "    </tr>\n",
       "    <tr>\n",
       "      <td>25%</td>\n",
       "      <td>2.114000e+01</td>\n",
       "      <td>1.500000e+01</td>\n",
       "      <td>2.550000e+02</td>\n",
       "      <td>-8.774746e+01</td>\n",
       "      <td>-8.767459e+01</td>\n",
       "      <td>4.176407e+01</td>\n",
       "      <td>4.182279e+01</td>\n",
       "    </tr>\n",
       "    <tr>\n",
       "      <td>50%</td>\n",
       "      <td>2.455000e+01</td>\n",
       "      <td>3.100000e+01</td>\n",
       "      <td>5.470000e+02</td>\n",
       "      <td>-8.768537e+01</td>\n",
       "      <td>-8.764644e+01</td>\n",
       "      <td>4.182279e+01</td>\n",
       "      <td>4.186613e+01</td>\n",
       "    </tr>\n",
       "    <tr>\n",
       "      <td>75%</td>\n",
       "      <td>2.748000e+01</td>\n",
       "      <td>5.100000e+01</td>\n",
       "      <td>9.380000e+02</td>\n",
       "      <td>-8.764721e+01</td>\n",
       "      <td>-8.760633e+01</td>\n",
       "      <td>4.190927e+01</td>\n",
       "      <td>4.193184e+01</td>\n",
       "    </tr>\n",
       "    <tr>\n",
       "      <td>max</td>\n",
       "      <td>1.738600e+02</td>\n",
       "      <td>2.650000e+02</td>\n",
       "      <td>7.015000e+03</td>\n",
       "      <td>-8.758485e+01</td>\n",
       "      <td>-8.752444e+01</td>\n",
       "      <td>4.199795e+01</td>\n",
       "      <td>4.202644e+01</td>\n",
       "    </tr>\n",
       "  </tbody>\n",
       "</table>\n",
       "</div>"
      ],
      "text/plain": [
       "              speed     bus_count     num_reads          west          east  \\\n",
       "count  2.805719e+06  2.805719e+06  2.805719e+06  2.805719e+06  2.805719e+06   \n",
       "mean   2.304333e+01  3.642927e+01  6.666114e+02 -8.770191e+01 -8.764235e+01   \n",
       "std    8.506232e+00  2.909417e+01  5.500713e+02  6.765980e-02  6.250787e-02   \n",
       "min    0.000000e+00  0.000000e+00  0.000000e+00 -8.784621e+01 -8.774746e+01   \n",
       "25%    2.114000e+01  1.500000e+01  2.550000e+02 -8.774746e+01 -8.767459e+01   \n",
       "50%    2.455000e+01  3.100000e+01  5.470000e+02 -8.768537e+01 -8.764644e+01   \n",
       "75%    2.748000e+01  5.100000e+01  9.380000e+02 -8.764721e+01 -8.760633e+01   \n",
       "max    1.738600e+02  2.650000e+02  7.015000e+03 -8.758485e+01 -8.752444e+01   \n",
       "\n",
       "              south         north  \n",
       "count  2.805719e+06  2.805719e+06  \n",
       "mean   4.182452e+01  4.186771e+01  \n",
       "std    9.740192e-02  9.437662e-02  \n",
       "min    4.164414e+01  4.167748e+01  \n",
       "25%    4.176407e+01  4.182279e+01  \n",
       "50%    4.182279e+01  4.186613e+01  \n",
       "75%    4.190927e+01  4.193184e+01  \n",
       "max    4.199795e+01  4.202644e+01  "
      ]
     },
     "execution_count": 25,
     "metadata": {},
     "output_type": "execute_result"
    }
   ],
   "source": [
    "congestion.describe()"
   ]
  },
  {
   "cell_type": "markdown",
   "metadata": {},
   "source": [
    "congestion.describe() shows that at least one entry has a speed of 0, which may indicate incomplete data. This may be an outlier. Additionally instances of bus_count and num_reads of 0 are likely missing data."
   ]
  },
  {
   "cell_type": "markdown",
   "metadata": {},
   "source": [
    "### 'L' station dataset preview"
   ]
  },
  {
   "cell_type": "code",
   "execution_count": 27,
   "metadata": {},
   "outputs": [
    {
     "name": "stdout",
     "output_type": "stream",
     "text": [
      "<class 'pandas.core.frame.DataFrame'>\n",
      "MultiIndex: 988858 entries, (2001-01-01 00:00:00, 40010) to (2019-12-31 00:00:00, 41700)\n",
      "Data columns (total 2 columns):\n",
      "station_name    988858 non-null object\n",
      "rides           988858 non-null int64\n",
      "dtypes: int64(1), object(1)\n",
      "memory usage: 18.9+ MB\n"
     ]
    }
   ],
   "source": [
    "station_entries.info()"
   ]
  },
  {
   "cell_type": "markdown",
   "metadata": {},
   "source": [
    "station_entries.info() shows that this sample of the columns seem to be properly formatted and complete."
   ]
  },
  {
   "cell_type": "code",
   "execution_count": 42,
   "metadata": {},
   "outputs": [
    {
     "data": {
      "text/html": [
       "<div>\n",
       "<style scoped>\n",
       "    .dataframe tbody tr th:only-of-type {\n",
       "        vertical-align: middle;\n",
       "    }\n",
       "\n",
       "    .dataframe tbody tr th {\n",
       "        vertical-align: top;\n",
       "    }\n",
       "\n",
       "    .dataframe thead th {\n",
       "        text-align: right;\n",
       "    }\n",
       "</style>\n",
       "<table border=\"1\" class=\"dataframe\">\n",
       "  <thead>\n",
       "    <tr style=\"text-align: right;\">\n",
       "      <th></th>\n",
       "      <th>rides</th>\n",
       "    </tr>\n",
       "  </thead>\n",
       "  <tbody>\n",
       "    <tr>\n",
       "      <td>count</td>\n",
       "      <td>988858.000000</td>\n",
       "    </tr>\n",
       "    <tr>\n",
       "      <td>mean</td>\n",
       "      <td>3322.844864</td>\n",
       "    </tr>\n",
       "    <tr>\n",
       "      <td>std</td>\n",
       "      <td>3215.420986</td>\n",
       "    </tr>\n",
       "    <tr>\n",
       "      <td>min</td>\n",
       "      <td>0.000000</td>\n",
       "    </tr>\n",
       "    <tr>\n",
       "      <td>25%</td>\n",
       "      <td>1123.000000</td>\n",
       "    </tr>\n",
       "    <tr>\n",
       "      <td>50%</td>\n",
       "      <td>2324.000000</td>\n",
       "    </tr>\n",
       "    <tr>\n",
       "      <td>75%</td>\n",
       "      <td>4351.000000</td>\n",
       "    </tr>\n",
       "    <tr>\n",
       "      <td>max</td>\n",
       "      <td>36323.000000</td>\n",
       "    </tr>\n",
       "  </tbody>\n",
       "</table>\n",
       "</div>"
      ],
      "text/plain": [
       "               rides\n",
       "count  988858.000000\n",
       "mean     3322.844864\n",
       "std      3215.420986\n",
       "min         0.000000\n",
       "25%      1123.000000\n",
       "50%      2324.000000\n",
       "75%      4351.000000\n",
       "max     36323.000000"
      ]
     },
     "execution_count": 42,
     "metadata": {},
     "output_type": "execute_result"
    }
   ],
   "source": [
    "station_entries.describe()"
   ]
  },
  {
   "cell_type": "markdown",
   "metadata": {},
   "source": [
    "station_entries.describe() shows a wide range in the rides, including at least one value at 0, but visual inspection will have to be used to see if any entries seem to be outliers."
   ]
  },
  {
   "cell_type": "code",
   "execution_count": 81,
   "metadata": {},
   "outputs": [
    {
     "data": {
      "image/png": "[encoded data removed]",
      "text/plain": [
       "<Figure size 432x288 with 2 Axes>"
      ]
     },
     "metadata": {
      "needs_background": "light"
     },
     "output_type": "display_data"
    }
   ],
   "source": [
    "plt.subplot(1, 2, 1)\n",
    "station_entries.rides.plot(kind='hist')\n",
    "plt.subplot(1, 2, 2)\n",
    "station_entries.rides.plot(kind='box')\n",
    "plt.show()"
   ]
  },
  {
   "cell_type": "markdown",
   "metadata": {},
   "source": [
    "With the visual inspection, the ridership frequency appears fairly smooth. The boxplot shows many outliers above the whisker, but there aren't any clear outliers that should be disconted."
   ]
  },
  {
   "cell_type": "markdown",
   "metadata": {},
   "source": [
    "## Full Dataset Processing\n",
    "\n",
    "After previewing the datasets, I import the csv in chunks as a TextFileReader from pandas. This allows me to process the large datasets without overloading the memory, after which I will append the cleaned data chunk by chunk into a new csv."
   ]
  },
  {
   "cell_type": "code",
   "execution_count": 34,
   "metadata": {},
   "outputs": [],
   "source": [
    "rideshares_reader = pd.read_csv(\"data/rideshares_raw.csv\", \n",
    "                                parse_dates=['Trip Start Timestamp', 'Trip End Timestamp'], \n",
    "                                usecols=rideshare_source_columns,\n",
    "                                iterator=True,\n",
    "                                chunksize=5000)\n",
    "\n",
    "congestion_reader = pd.read_csv(\"data/congestion_raw.csv\",\n",
    "                                parse_dates=['TIME'],\n",
    "                                usecols=congestion_source_columns,\n",
    "                                iterator=True,\n",
    "                                chunksize=5000)\n",
    "station_entries_reader = pd.read_csv(\"data/station_entries_raw.csv\",\n",
    "                                     parse_dates=['date'],\n",
    "                                     usecols=station_source_columns,\n",
    "                                     iterator=True,\n",
    "                                     chunksize=5000)"
   ]
  },
  {
   "cell_type": "code",
   "execution_count": 35,
   "metadata": {},
   "outputs": [],
   "source": [
    "# Station Entries processing\n",
    "firstChunk = True\n",
    "for station_entries_chunk in station_entries_reader:\n",
    "    # Drop entries with missing values\n",
    "    station_entries_chunk = station_entries_chunk.dropna()\n",
    "    \n",
    "    if firstChunk:\n",
    "        # Rename the columns for saving\n",
    "        station_entries_chunk.columns = station_column_names\n",
    "        # Save the first chunk normally\n",
    "        station_entries_chunk.to_csv('data/station_entries.csv')\n",
    "    else:\n",
    "        # Append the second chunk and don't include the header\n",
    "        station_entries_chunk.to_csv('data/station_entries.csv', mode='a', header=False)\n",
    "    firstChunk = False"
   ]
  },
  {
   "cell_type": "code",
   "execution_count": 36,
   "metadata": {},
   "outputs": [],
   "source": [
    "#Congestion Processing\n",
    "firstChunk = True\n",
    "for congestion_chunk in congestion_reader:\n",
    "    # Drop entries with missing values\n",
    "    congestion_chunk = congestion_chunk.dropna()\n",
    "    # Drop entries with speed 0\n",
    "    congestion_chunk.drop(congestion_chunk.loc[congestion_chunk[\"SPEED\"]==0].index, inplace=True)\n",
    "    # Drop entries with bus_count 0\n",
    "    congestion_chunk.drop(congestion_chunk.loc[congestion_chunk[\"BUS_COUNT\"]==0].index, inplace=True)\n",
    "    # Drop entries with num_reads 0\n",
    "    congestion_chunk.drop(congestion_chunk.loc[congestion_chunk[\"NUM_READS\"]==0].index, inplace=True)\n",
    "    \n",
    "    if firstChunk:\n",
    "        # Rename the columns for saving\n",
    "        congestion_chunk.columns = congestion_column_names\n",
    "        # Save the first chunk normally\n",
    "        congestion_chunk.to_csv('data/congestion.csv')\n",
    "    else:\n",
    "        # Append the second chunk and don't include the header\n",
    "        congestion_chunk.to_csv('data/congestion.csv', mode='a', header=False)\n",
    "    firstChunk = False"
   ]
  },
  {
   "cell_type": "code",
   "execution_count": null,
   "metadata": {},
   "outputs": [],
   "source": [
    "#Rideshare Processing\n",
    "firstChunk = True\n",
    "for rideshares_chunk in rideshares_reader:\n",
    "    # Drop entries with missing values\n",
    "    rideshares_chunk = rideshares_chunk.dropna()\n",
    "    \n",
    "    if firstChunk:\n",
    "        # Rename the columns for saving the first chunk\n",
    "        rideshares_chunk.columns = rideshare_column_names\n",
    "        # Save the first chunk normally\n",
    "        rideshares_chunk.to_csv('data/rideshares.csv')\n",
    "    else:\n",
    "        # Append the second chunk and don't include the header\n",
    "        rideshares_chunk.to_csv('data/rideshares.csv', mode='a', header=False)\n",
    "    firstChunk = False"
   ]
  },
  {
   "cell_type": "markdown",
   "metadata": {},
   "source": [
    "## Sampling processed data"
   ]
  },
  {
   "cell_type": "code",
   "execution_count": 85,
   "metadata": {},
   "outputs": [
    {
     "name": "stderr",
     "output_type": "stream",
     "text": [
      "/home/alicia/anaconda3/lib/python3.7/site-packages/numpy/lib/arraysetops.py:568: FutureWarning: elementwise comparison failed; returning scalar instead, but in the future will perform elementwise comparison\n",
      "  mask |= (ar1 == a)\n"
     ]
    }
   ],
   "source": [
    "# load dataframes from csv files, including correct index\n",
    "rideshares_clean = pd.read_csv(\"data/rideshares.csv\", \n",
    "                               parse_dates=['start_time', 'end_time'], \n",
    "                               index_col='trip_id',\n",
    "                               nrows=10000\n",
    "                              )\n",
    "\n",
    "congestion_clean = pd.read_csv(\"data/congestion.csv\",\n",
    "                               parse_dates=['time'],\n",
    "                               index_col=['time', 'region_id'],\n",
    "                              )\n",
    "congestion_clean = congestion_clean.sort_index()\n",
    "\n",
    "station_entries_clean = pd.read_csv(\"data/station_entries.csv\",\n",
    "                                    parse_dates=['date'],\n",
    "                                    #index_col=['date', 'station_id'],\n",
    "                                   )\n",
    "station_entries_clean = station_entries_clean.sort_index()"
   ]
  },
  {
   "cell_type": "code",
   "execution_count": 15,
   "metadata": {},
   "outputs": [
    {
     "name": "stdout",
     "output_type": "stream",
     "text": [
      "<class 'pandas.core.frame.DataFrame'>\n",
      "Index: 10000 entries, 1e0d07bb2409f2e44980d2101d24cd1808fc1691 to 1e27da3a9da1b73852fcce5019c3708ef4dbd9e4\n",
      "Data columns (total 7 columns):\n",
      "Unnamed: 0      10000 non-null int64\n",
      "start_time      10000 non-null datetime64[ns]\n",
      "end_time        10000 non-null datetime64[ns]\n",
      "pickup_lat      10000 non-null float64\n",
      "pickup_long     10000 non-null float64\n",
      "dropoff_lat     10000 non-null float64\n",
      "dropoff_long    10000 non-null float64\n",
      "dtypes: datetime64[ns](2), float64(4), int64(1)\n",
      "memory usage: 625.0+ KB\n"
     ]
    }
   ],
   "source": [
    "# Rideshares data\n",
    "rideshares_clean.info()"
   ]
  },
  {
   "cell_type": "code",
   "execution_count": 16,
   "metadata": {},
   "outputs": [
    {
     "data": {
      "image/png": "[encoded data removed]",
      "text/plain": [
       "<Figure size 432x288 with 2 Axes>"
      ]
     },
     "metadata": {
      "needs_background": "light"
     },
     "output_type": "display_data"
    }
   ],
   "source": [
    "# Congestion Data\n",
    "plt.subplot(1, 2, 1)\n",
    "congestion_clean.speed.plot(kind='hist')\n",
    "plt.subplot(1, 2, 2)\n",
    "congestion_clean.speed.plot(kind='box')\n",
    "plt.show()"
   ]
  },
  {
   "cell_type": "code",
   "execution_count": 32,
   "metadata": {},
   "outputs": [
    {
     "data": {
      "image/png": "[encoded data removed]",
      "text/plain": [
       "<Figure size 432x288 with 2 Axes>"
      ]
     },
     "metadata": {
      "needs_background": "light"
     },
     "output_type": "display_data"
    }
   ],
   "source": [
    "# 'L' Station Data\n",
    "plt.subplot(1, 2, 1)\n",
    "station_entries_clean.rides.plot(kind='hist')\n",
    "plt.subplot(1, 2, 2)\n",
    "station_entries_clean.rides.plot(kind='box')\n",
    "plt.show()"
   ]
  },
  {
   "cell_type": "markdown",
   "metadata": {},
   "source": [
    "## Combining Data\n",
    "Now that I have cleaned the data, I combine the 3 datasets into one. Because the datasets have different levels of granularity, I must decide how to sample them to line them up most effectively. The Rideshare dataset has entries for every ride taken, while the congestion dataset has entries throughout the day at irregular intervals, and the 'L' station entries has daily entries. To begin with, I will downsample/upsample all of the datasets to hourly entries. For the rideshares I will count the number of rides in each day, separated into the same regions as the congestion dataset. For the congestion dataset I will average the speed. Finally, for the station dataset I will fill the daily entries data through the day.\n",
    "\n",
    "Additionally, the station dataset will be reindexed to also use the same regions as the congestion dataset, instead of individual stations.\n",
    "\n",
    "Finally, I will limit the entries to the overlapping time frame."
   ]
  },
  {
   "cell_type": "markdown",
   "metadata": {},
   "source": [
    "### Congestion Dataset"
   ]
  },
  {
   "cell_type": "code",
   "execution_count": 356,
   "metadata": {},
   "outputs": [
    {
     "name": "stderr",
     "output_type": "stream",
     "text": [
      "/home/alicia/anaconda3/lib/python3.7/site-packages/numpy/lib/arraysetops.py:568: FutureWarning: elementwise comparison failed; returning scalar instead, but in the future will perform elementwise comparison\n",
      "  mask |= (ar1 == a)\n"
     ]
    }
   ],
   "source": [
    "# Re-read congestion dataset from clean data file\n",
    "congestion_clean = pd.read_csv(\"data/congestion.csv\",\n",
    "                               parse_dates=['time'],\n",
    "                               index_col=['time', 'region_id'],\n",
    "                              )\n",
    "congestion_clean = congestion_clean.sort_index()"
   ]
  },
  {
   "cell_type": "code",
   "execution_count": 357,
   "metadata": {},
   "outputs": [],
   "source": [
    "# regroup the dataframe by the region id and resample with the same 30 minute interval.\n",
    "resampled_congestion_clean = congestion_clean.reset_index(level=1)\n",
    "resampled_congestion_clean = resampled_congestion_clean.groupby(['region_id']).resample('30T').mean()\n",
    "\n",
    "# switch the levels of the multiindex and sort\n",
    "resampled_congestion_clean = resampled_congestion_clean.swaplevel()\n",
    "congestion = resampled_congestion_clean.sort_index()"
   ]
  },
  {
   "cell_type": "code",
   "execution_count": 358,
   "metadata": {},
   "outputs": [
    {
     "name": "stdout",
     "output_type": "stream",
     "text": [
      "<class 'pandas.core.frame.DataFrame'>\n",
      "MultiIndex: 1017204 entries, (2018-03-09 15:30:00, 1) to (2020-03-09 09:00:00, 29)\n",
      "Data columns (total 9 columns):\n",
      "region_id     924690 non-null float64\n",
      "Unnamed: 0    924690 non-null float64\n",
      "speed         924690 non-null float64\n",
      "bus_count     924690 non-null float64\n",
      "num_reads     924690 non-null float64\n",
      "west          924690 non-null float64\n",
      "east          924690 non-null float64\n",
      "south         924690 non-null float64\n",
      "north         924690 non-null float64\n",
      "dtypes: float64(9)\n",
      "memory usage: 75.0 MB\n"
     ]
    }
   ],
   "source": [
    "congestion.info()"
   ]
  },
  {
   "cell_type": "markdown",
   "metadata": {},
   "source": [
    "### Extract region coordinates\n",
    "\n",
    "In order to map the station and ridesharing datasets to the congestion datasets regions, I need to extract the region coordinates from the congestion dataset"
   ]
  },
  {
   "cell_type": "code",
   "execution_count": 17,
   "metadata": {},
   "outputs": [],
   "source": [
    "# Select the first time entry in the dataframe\n",
    "region_map = resampled_congestion_clean.loc['2018-03-09 15:30:00']\n",
    "\n",
    "# Remove time as an index\n",
    "region_map = region_map.reset_index(0)\n",
    "\n",
    "# Drop unneeded columns\n",
    "region_map = region_map.drop(columns=['time', 'region_id', 'Unnamed: 0', 'speed', 'bus_count', 'num_reads'])"
   ]
  },
  {
   "cell_type": "code",
   "execution_count": 19,
   "metadata": {},
   "outputs": [
    {
     "data": {
      "text/html": [
       "<div>\n",
       "<style scoped>\n",
       "    .dataframe tbody tr th:only-of-type {\n",
       "        vertical-align: middle;\n",
       "    }\n",
       "\n",
       "    .dataframe tbody tr th {\n",
       "        vertical-align: top;\n",
       "    }\n",
       "\n",
       "    .dataframe thead th {\n",
       "        text-align: right;\n",
       "    }\n",
       "</style>\n",
       "<table border=\"1\" class=\"dataframe\">\n",
       "  <thead>\n",
       "    <tr style=\"text-align: right;\">\n",
       "      <th></th>\n",
       "      <th>west</th>\n",
       "      <th>east</th>\n",
       "      <th>south</th>\n",
       "      <th>north</th>\n",
       "    </tr>\n",
       "    <tr>\n",
       "      <th>region_id</th>\n",
       "      <th></th>\n",
       "      <th></th>\n",
       "      <th></th>\n",
       "      <th></th>\n",
       "    </tr>\n",
       "  </thead>\n",
       "  <tbody>\n",
       "    <tr>\n",
       "      <td>1</td>\n",
       "      <td>-87.709645</td>\n",
       "      <td>-87.654561</td>\n",
       "      <td>41.997946</td>\n",
       "      <td>42.026444</td>\n",
       "    </tr>\n",
       "    <tr>\n",
       "      <td>2</td>\n",
       "      <td>-87.846210</td>\n",
       "      <td>-87.747456</td>\n",
       "      <td>41.960669</td>\n",
       "      <td>42.019100</td>\n",
       "    </tr>\n",
       "    <tr>\n",
       "      <td>3</td>\n",
       "      <td>-87.747456</td>\n",
       "      <td>-87.674590</td>\n",
       "      <td>41.960669</td>\n",
       "      <td>41.997946</td>\n",
       "    </tr>\n",
       "    <tr>\n",
       "      <td>4</td>\n",
       "      <td>-87.674590</td>\n",
       "      <td>-87.646438</td>\n",
       "      <td>41.960669</td>\n",
       "      <td>41.997946</td>\n",
       "    </tr>\n",
       "    <tr>\n",
       "      <td>5</td>\n",
       "      <td>-87.846210</td>\n",
       "      <td>-87.747456</td>\n",
       "      <td>41.909269</td>\n",
       "      <td>41.960669</td>\n",
       "    </tr>\n",
       "  </tbody>\n",
       "</table>\n",
       "</div>"
      ],
      "text/plain": [
       "                west       east      south      north\n",
       "region_id                                            \n",
       "1         -87.709645 -87.654561  41.997946  42.026444\n",
       "2         -87.846210 -87.747456  41.960669  42.019100\n",
       "3         -87.747456 -87.674590  41.960669  41.997946\n",
       "4         -87.674590 -87.646438  41.960669  41.997946\n",
       "5         -87.846210 -87.747456  41.909269  41.960669"
      ]
     },
     "execution_count": 19,
     "metadata": {},
     "output_type": "execute_result"
    }
   ],
   "source": [
    "region_map.head()"
   ]
  },
  {
   "cell_type": "markdown",
   "metadata": {},
   "source": [
    "### Station Dataset"
   ]
  },
  {
   "cell_type": "code",
   "execution_count": 359,
   "metadata": {},
   "outputs": [],
   "source": [
    "# Re-read station dataset from clean data file, using a numerical index instead of the defined indices to allow for grouping\n",
    "station_entries_clean = pd.read_csv(\"data/station_entries.csv\",\n",
    "                                    parse_dates=['date'],\n",
    "                                   )\n",
    "\n",
    "# Add date as an index and sort, then slice on the dates that overlap with the congestion dataset\n",
    "station_entries_clean = station_entries_clean.set_index(['date', station_entries_clean.columns[0]])\n",
    "station_entries_clean = station_entries_clean.sort_index()\n",
    "station_entries_clean = station_entries_clean.loc[(slice('2018-03-09', '2020-03-09'), slice(None)), :]"
   ]
  },
  {
   "cell_type": "code",
   "execution_count": 360,
   "metadata": {},
   "outputs": [],
   "source": [
    "# regroup the dataframe by the station id and resample with the same 30 minute interval.\n",
    "resampled_station_entries_clean = station_entries_clean.reset_index(level=1)\n",
    "resampled_station_entries_clean = resampled_station_entries_clean.groupby(['station_id']).resample('30T').ffill()\n",
    "\n",
    "# switch the levels of the multiindex and sort\n",
    "resampled_station_entries_clean = resampled_station_entries_clean.swaplevel()\n",
    "resampled_station_entries_clean = resampled_station_entries_clean.sort_index()"
   ]
  },
  {
   "cell_type": "code",
   "execution_count": 361,
   "metadata": {},
   "outputs": [
    {
     "data": {
      "text/html": [
       "<div>\n",
       "<style scoped>\n",
       "    .dataframe tbody tr th:only-of-type {\n",
       "        vertical-align: middle;\n",
       "    }\n",
       "\n",
       "    .dataframe tbody tr th {\n",
       "        vertical-align: top;\n",
       "    }\n",
       "\n",
       "    .dataframe thead th {\n",
       "        text-align: right;\n",
       "    }\n",
       "</style>\n",
       "<table border=\"1\" class=\"dataframe\">\n",
       "  <thead>\n",
       "    <tr style=\"text-align: right;\">\n",
       "      <th></th>\n",
       "      <th></th>\n",
       "      <th>Unnamed: 0</th>\n",
       "      <th>station_id</th>\n",
       "      <th>station_name</th>\n",
       "      <th>rides</th>\n",
       "    </tr>\n",
       "    <tr>\n",
       "      <th>date</th>\n",
       "      <th>station_id</th>\n",
       "      <th></th>\n",
       "      <th></th>\n",
       "      <th></th>\n",
       "      <th></th>\n",
       "    </tr>\n",
       "  </thead>\n",
       "  <tbody>\n",
       "    <tr>\n",
       "      <td rowspan=\"5\" valign=\"top\">2018-03-09</td>\n",
       "      <td>40010</td>\n",
       "      <td>896380</td>\n",
       "      <td>40010</td>\n",
       "      <td>Austin-Forest Park</td>\n",
       "      <td>1854</td>\n",
       "    </tr>\n",
       "    <tr>\n",
       "      <td>40020</td>\n",
       "      <td>884855</td>\n",
       "      <td>40020</td>\n",
       "      <td>Harlem-Lake</td>\n",
       "      <td>3660</td>\n",
       "    </tr>\n",
       "    <tr>\n",
       "      <td>40030</td>\n",
       "      <td>884527</td>\n",
       "      <td>40030</td>\n",
       "      <td>Pulaski-Lake</td>\n",
       "      <td>1337</td>\n",
       "    </tr>\n",
       "    <tr>\n",
       "      <td>40040</td>\n",
       "      <td>892953</td>\n",
       "      <td>40040</td>\n",
       "      <td>Quincy/Wells</td>\n",
       "      <td>7371</td>\n",
       "    </tr>\n",
       "    <tr>\n",
       "      <td>40050</td>\n",
       "      <td>893818</td>\n",
       "      <td>40050</td>\n",
       "      <td>Davis</td>\n",
       "      <td>3824</td>\n",
       "    </tr>\n",
       "  </tbody>\n",
       "</table>\n",
       "</div>"
      ],
      "text/plain": [
       "                       Unnamed: 0  station_id        station_name  rides\n",
       "date       station_id                                                   \n",
       "2018-03-09 40010           896380       40010  Austin-Forest Park   1854\n",
       "           40020           884855       40020         Harlem-Lake   3660\n",
       "           40030           884527       40030        Pulaski-Lake   1337\n",
       "           40040           892953       40040        Quincy/Wells   7371\n",
       "           40050           893818       40050               Davis   3824"
      ]
     },
     "execution_count": 361,
     "metadata": {},
     "output_type": "execute_result"
    }
   ],
   "source": [
    "resampled_station_entries_clean.head()"
   ]
  },
  {
   "cell_type": "code",
   "execution_count": 362,
   "metadata": {},
   "outputs": [],
   "source": [
    "# Extract list of all station name/id pairs\n",
    "station_ids = resampled_station_entries_clean.station_id.unique()\n",
    "station_names = resampled_station_entries_clean.station_name.unique()\n",
    "\n",
    "#convert to dataframe\n",
    "all_stations = pd.DataFrame(station_names, columns=['station_name'], index=station_ids)"
   ]
  },
  {
   "cell_type": "markdown",
   "metadata": {},
   "source": [
    "Now that I have all of the stations, I need to find their coordinates and add them to the dataframe. I do this with the google maps geocoding API"
   ]
  },
  {
   "cell_type": "code",
   "execution_count": 363,
   "metadata": {},
   "outputs": [],
   "source": [
    "# importing api key and setting up for api call\n",
    "from keys import googleapi\n",
    "import requests\n",
    "url = 'https://maps.googleapis.com/maps/api/geocode/json'"
   ]
  },
  {
   "cell_type": "code",
   "execution_count": 364,
   "metadata": {},
   "outputs": [],
   "source": [
    "# create function to get lat and long from the api using the station name\n",
    "def get_coords( station_name ):\n",
    "    \"\"\"Returns the latitude and longitude of the station as a tuple, or false\"\"\"\n",
    "    try:\n",
    "        response = requests.get(url+'?address='+station_name+' Station Chicago&key='+googleapi.key)\n",
    "        location = response.json()['results'][0]['geometry']['location']\n",
    "        coords = (location['lat'], location['lng'])\n",
    "        return coords\n",
    "    except:\n",
    "        return false\n",
    "\n",
    "# Find the coordinates using the api\n",
    "coords = [get_coords(station_name) for station_name in all_stations.station_name]\n",
    "\n",
    "# Split the coorinates into lat and long lists\n",
    "lat, long = zip(*coords)"
   ]
  },
  {
   "cell_type": "code",
   "execution_count": 365,
   "metadata": {},
   "outputs": [
    {
     "data": {
      "text/html": [
       "<div>\n",
       "<style scoped>\n",
       "    .dataframe tbody tr th:only-of-type {\n",
       "        vertical-align: middle;\n",
       "    }\n",
       "\n",
       "    .dataframe tbody tr th {\n",
       "        vertical-align: top;\n",
       "    }\n",
       "\n",
       "    .dataframe thead th {\n",
       "        text-align: right;\n",
       "    }\n",
       "</style>\n",
       "<table border=\"1\" class=\"dataframe\">\n",
       "  <thead>\n",
       "    <tr style=\"text-align: right;\">\n",
       "      <th></th>\n",
       "      <th>station_name</th>\n",
       "      <th>lat</th>\n",
       "      <th>long</th>\n",
       "    </tr>\n",
       "  </thead>\n",
       "  <tbody>\n",
       "    <tr>\n",
       "      <td>40010</td>\n",
       "      <td>Austin-Forest Park</td>\n",
       "      <td>41.874267</td>\n",
       "      <td>-87.816595</td>\n",
       "    </tr>\n",
       "    <tr>\n",
       "      <td>40020</td>\n",
       "      <td>Harlem-Lake</td>\n",
       "      <td>41.886872</td>\n",
       "      <td>-87.803959</td>\n",
       "    </tr>\n",
       "    <tr>\n",
       "      <td>40030</td>\n",
       "      <td>Pulaski-Lake</td>\n",
       "      <td>41.885567</td>\n",
       "      <td>-87.726692</td>\n",
       "    </tr>\n",
       "    <tr>\n",
       "      <td>40040</td>\n",
       "      <td>Quincy/Wells</td>\n",
       "      <td>41.878846</td>\n",
       "      <td>-87.633887</td>\n",
       "    </tr>\n",
       "    <tr>\n",
       "      <td>40050</td>\n",
       "      <td>Davis</td>\n",
       "      <td>42.047986</td>\n",
       "      <td>-87.684652</td>\n",
       "    </tr>\n",
       "  </tbody>\n",
       "</table>\n",
       "</div>"
      ],
      "text/plain": [
       "             station_name        lat       long\n",
       "40010  Austin-Forest Park  41.874267 -87.816595\n",
       "40020         Harlem-Lake  41.886872 -87.803959\n",
       "40030        Pulaski-Lake  41.885567 -87.726692\n",
       "40040        Quincy/Wells  41.878846 -87.633887\n",
       "40050               Davis  42.047986 -87.684652"
      ]
     },
     "execution_count": 365,
     "metadata": {},
     "output_type": "execute_result"
    }
   ],
   "source": [
    "# Finally, add the lat and long lists as columns to the stations dataframe\n",
    "all_stations['lat'] = lat\n",
    "all_stations['long'] = long\n",
    "all_stations.head()"
   ]
  },
  {
   "cell_type": "markdown",
   "metadata": {},
   "source": [
    "Now that I have mapped the stations to their coordinates, I can map them to their region, as extracted from the congestion dataset"
   ]
  },
  {
   "cell_type": "code",
   "execution_count": 366,
   "metadata": {},
   "outputs": [],
   "source": [
    "# create function to match station to region\n",
    "def find_station_region( station_id ):\n",
    "    '''Returns region id matching the station coordinates, or 0 if no matching region'''\n",
    "    lat, long = (all_stations.loc[station_id, 'lat'], all_stations.loc[station_id, 'long'])\n",
    "    for region in region_map.iterrows():\n",
    "        if (lat >= region[1]['south'] and lat <= region[1]['north'] and long >= region[1]['west'] and long <= region[1]['east']):\n",
    "            return region[0]\n",
    "    return 0"
   ]
  },
  {
   "cell_type": "code",
   "execution_count": 367,
   "metadata": {},
   "outputs": [],
   "source": [
    "# create list of regions for all the stations\n",
    "station_regions = [find_station_region(station_index[1])\n",
    "                   for station_index\n",
    "                   in resampled_station_entries_clean.index]"
   ]
  },
  {
   "cell_type": "code",
   "execution_count": 116,
   "metadata": {},
   "outputs": [
    {
     "data": {
      "text/html": [
       "<div>\n",
       "<style scoped>\n",
       "    .dataframe tbody tr th:only-of-type {\n",
       "        vertical-align: middle;\n",
       "    }\n",
       "\n",
       "    .dataframe tbody tr th {\n",
       "        vertical-align: top;\n",
       "    }\n",
       "\n",
       "    .dataframe thead th {\n",
       "        text-align: right;\n",
       "    }\n",
       "</style>\n",
       "<table border=\"1\" class=\"dataframe\">\n",
       "  <thead>\n",
       "    <tr style=\"text-align: right;\">\n",
       "      <th></th>\n",
       "      <th></th>\n",
       "      <th>Unnamed: 0</th>\n",
       "      <th>station_id</th>\n",
       "      <th>station_name</th>\n",
       "      <th>rides</th>\n",
       "      <th>region_index</th>\n",
       "    </tr>\n",
       "    <tr>\n",
       "      <th>date</th>\n",
       "      <th>station_id</th>\n",
       "      <th></th>\n",
       "      <th></th>\n",
       "      <th></th>\n",
       "      <th></th>\n",
       "      <th></th>\n",
       "    </tr>\n",
       "  </thead>\n",
       "  <tbody>\n",
       "    <tr>\n",
       "      <td rowspan=\"5\" valign=\"top\">2018-03-09</td>\n",
       "      <td>40010</td>\n",
       "      <td>896380</td>\n",
       "      <td>40010</td>\n",
       "      <td>Austin-Forest Park</td>\n",
       "      <td>1854</td>\n",
       "      <td>0</td>\n",
       "    </tr>\n",
       "    <tr>\n",
       "      <td>40020</td>\n",
       "      <td>884855</td>\n",
       "      <td>40020</td>\n",
       "      <td>Harlem-Lake</td>\n",
       "      <td>3660</td>\n",
       "      <td>0</td>\n",
       "    </tr>\n",
       "    <tr>\n",
       "      <td>40030</td>\n",
       "      <td>884527</td>\n",
       "      <td>40030</td>\n",
       "      <td>Pulaski-Lake</td>\n",
       "      <td>1337</td>\n",
       "      <td>10</td>\n",
       "    </tr>\n",
       "    <tr>\n",
       "      <td>40040</td>\n",
       "      <td>892953</td>\n",
       "      <td>40040</td>\n",
       "      <td>Quincy/Wells</td>\n",
       "      <td>7371</td>\n",
       "      <td>13</td>\n",
       "    </tr>\n",
       "    <tr>\n",
       "      <td>40050</td>\n",
       "      <td>893818</td>\n",
       "      <td>40050</td>\n",
       "      <td>Davis</td>\n",
       "      <td>3824</td>\n",
       "      <td>0</td>\n",
       "    </tr>\n",
       "  </tbody>\n",
       "</table>\n",
       "</div>"
      ],
      "text/plain": [
       "                       Unnamed: 0  station_id        station_name  rides  \\\n",
       "date       station_id                                                      \n",
       "2018-03-09 40010           896380       40010  Austin-Forest Park   1854   \n",
       "           40020           884855       40020         Harlem-Lake   3660   \n",
       "           40030           884527       40030        Pulaski-Lake   1337   \n",
       "           40040           892953       40040        Quincy/Wells   7371   \n",
       "           40050           893818       40050               Davis   3824   \n",
       "\n",
       "                       region_index  \n",
       "date       station_id                \n",
       "2018-03-09 40010                  0  \n",
       "           40020                  0  \n",
       "           40030                 10  \n",
       "           40040                 13  \n",
       "           40050                  0  "
      ]
     },
     "execution_count": 116,
     "metadata": {},
     "output_type": "execute_result"
    }
   ],
   "source": [
    "# Add the list to the stations dataframe\n",
    "resampled_station_entries_clean['region_id'] = station_regions\n",
    "resampled_station_entries_clean.head()"
   ]
  },
  {
   "cell_type": "code",
   "execution_count": 139,
   "metadata": {},
   "outputs": [
    {
     "data": {
      "text/html": [
       "<div>\n",
       "<style scoped>\n",
       "    .dataframe tbody tr th:only-of-type {\n",
       "        vertical-align: middle;\n",
       "    }\n",
       "\n",
       "    .dataframe tbody tr th {\n",
       "        vertical-align: top;\n",
       "    }\n",
       "\n",
       "    .dataframe thead th {\n",
       "        text-align: right;\n",
       "    }\n",
       "</style>\n",
       "<table border=\"1\" class=\"dataframe\">\n",
       "  <thead>\n",
       "    <tr style=\"text-align: right;\">\n",
       "      <th></th>\n",
       "      <th></th>\n",
       "      <th>rides</th>\n",
       "    </tr>\n",
       "    <tr>\n",
       "      <th>date</th>\n",
       "      <th>region_id</th>\n",
       "      <th></th>\n",
       "    </tr>\n",
       "  </thead>\n",
       "  <tbody>\n",
       "    <tr>\n",
       "      <td rowspan=\"5\" valign=\"top\">2018-03-09</td>\n",
       "      <td>0</td>\n",
       "      <td>64514</td>\n",
       "    </tr>\n",
       "    <tr>\n",
       "      <td>1</td>\n",
       "      <td>16035</td>\n",
       "    </tr>\n",
       "    <tr>\n",
       "      <td>2</td>\n",
       "      <td>14927</td>\n",
       "    </tr>\n",
       "    <tr>\n",
       "      <td>3</td>\n",
       "      <td>15011</td>\n",
       "    </tr>\n",
       "    <tr>\n",
       "      <td>4</td>\n",
       "      <td>27565</td>\n",
       "    </tr>\n",
       "  </tbody>\n",
       "</table>\n",
       "</div>"
      ],
      "text/plain": [
       "                      rides\n",
       "date       region_id       \n",
       "2018-03-09 0          64514\n",
       "           1          16035\n",
       "           2          14927\n",
       "           3          15011\n",
       "           4          27565"
      ]
     },
     "execution_count": 139,
     "metadata": {},
     "output_type": "execute_result"
    }
   ],
   "source": [
    "# aggregate the dataframe on the regions\n",
    "station_entries = pd.DataFrame(resampled_station_entries_clean.groupby(['date', 'region_id'])['rides'].sum())\n",
    "station_entries.head()"
   ]
  },
  {
   "cell_type": "markdown",
   "metadata": {},
   "source": [
    "Finally, I can slice the dataframe to only select the exact overlap with the congestion dataset, and remove the stations that are not in a region (region 0)"
   ]
  },
  {
   "cell_type": "code",
   "execution_count": 148,
   "metadata": {},
   "outputs": [],
   "source": [
    "station_entries = station_entries.loc[(slice('2018-03-09 15:30:00', '2020-03-09 09:00:00'), slice(1, 29)), :]"
   ]
  },
  {
   "cell_type": "code",
   "execution_count": 149,
   "metadata": {},
   "outputs": [
    {
     "name": "stdout",
     "output_type": "stream",
     "text": [
      "<class 'pandas.core.frame.DataFrame'>\n",
      "MultiIndex: 698412 entries, (2018-03-09 15:30:00, 1) to (2019-12-31 00:00:00, 29)\n",
      "Data columns (total 1 columns):\n",
      "rides    698412 non-null int64\n",
      "dtypes: int64(1)\n",
      "memory usage: 7.6 MB\n"
     ]
    }
   ],
   "source": [
    "station_entries.info()"
   ]
  },
  {
   "cell_type": "markdown",
   "metadata": {},
   "source": [
    "### Rideshare dataset"
   ]
  },
  {
   "cell_type": "code",
   "execution_count": 339,
   "metadata": {},
   "outputs": [],
   "source": [
    "# Re-read rideshare dataset from clean data file\n",
    "rideshares_reader = pd.read_csv(\"data/rideshares.csv\", \n",
    "                               parse_dates=['start_time', 'end_time'], \n",
    "                               index_col=['start_time', 'trip_id'],\n",
    "                               iterator=True,\n",
    "                               chunksize=5000\n",
    "                              )"
   ]
  },
  {
   "cell_type": "markdown",
   "metadata": {},
   "source": [
    "Similar to the station dataset, I need to determine in which, if any, region each trip starts. To speed up the function a little, I will find the N/S/E/W bounds such that any locations outside of those bounds will be guaranteed not to be in a defined region, allowing the loop to skip that trip."
   ]
  },
  {
   "cell_type": "code",
   "execution_count": 348,
   "metadata": {},
   "outputs": [],
   "source": [
    "# Find the total region boundary\n",
    "north_bound = max(region_map.north)\n",
    "south_bound = min(region_map.south)\n",
    "east_bound = max(region_map.east)\n",
    "west_bound = min(region_map.west)\n",
    "\n",
    "# Create function to match trip to region\n",
    "def find_trip_region( trip_id, rideshare_chunk ):\n",
    "    '''Returns region id matching the trip coordinates, or 0 if no matching region'''\n",
    "    lat = float(rideshare_chunk.loc[(slice(None), trip_id), 'pickup_lat'])\n",
    "    long = float(rideshare_chunk.loc[(slice(None), trip_id), 'pickup_long'])\n",
    "    \n",
    "    # If the start location is outside of the total region boundary, return 0\n",
    "    if (lat > north_bound\n",
    "           or lat < south_bound\n",
    "           or long > east_bound\n",
    "           or long < west_bound):\n",
    "        return 0\n",
    "    \n",
    "    for region in region_map.iterrows():\n",
    "        if (lat >= region[1]['south']\n",
    "                and lat <= region[1]['north']\n",
    "                and long >= region[1]['west']\n",
    "                and long <= region[1]['east']):\n",
    "            return region[0]\n",
    "    return 0"
   ]
  },
  {
   "cell_type": "code",
   "execution_count": 341,
   "metadata": {},
   "outputs": [],
   "source": [
    "# Rideshare Processing\n",
    "firstChunk = True\n",
    "for rideshares_chunk in rideshares_reader:\n",
    "\n",
    "    # Add date as an index and sort, then slice on the dates that overlap with the congestion dataset\n",
    "    rideshares_chunk.rename_axis([\"date\", 'trip_id'], axis='index', inplace=True)\n",
    "    rideshares_chunk = rideshares_chunk.sort_index()\n",
    "    rideshares_chunk = rideshares_chunk.loc[(slice('2018-03-09', '2020-03-09'), slice(None)), :]\n",
    "\n",
    "    # create list of regions for all the trips\n",
    "    trip_regions = [find_trip_region(trip_index[1], rideshares_chunk) for trip_index in rideshares_chunk.index]\n",
    "\n",
    "    # Add the list to the stations dataframe\n",
    "    rideshares_chunk['region_id'] = trip_regions\n",
    "\n",
    "    # Resample on start time to match the 30 minutes sample rate of the other datasets\n",
    "    rideshares_chunk = rideshares_chunk.reset_index(level=1)\n",
    "    rideshares = pd.DataFrame(rideshares_chunk.groupby('region_id').resample('30T').count().end_time)\n",
    "\n",
    "    # aggregate the dataframe on the regions and resample on start time\n",
    "    rideshares.columns = ['trips']\n",
    "    \n",
    "    if firstChunk:\n",
    "        rideshares_aggregate = rideshares.copy()\n",
    "    else:\n",
    "        rideshares_aggregate = pd.merge(rideshares_aggregate, rideshares, left_index=True, right_index=True).sum(axis=1)\n",
    "\n",
    "    firstChunk = False"
   ]
  },
  {
   "cell_type": "markdown",
   "metadata": {},
   "source": [
    "Finally, as with the stations dataset, I can slice the dataframe to only select the exact overlap with the congestion dataset, and remove the stations that are not in a region (region 0)"
   ]
  },
  {
   "cell_type": "code",
   "execution_count": 352,
   "metadata": {},
   "outputs": [
    {
     "name": "stdout",
     "output_type": "stream",
     "text": [
      "<class 'pandas.core.frame.DataFrame'>\n",
      "MultiIndex: 120210 entries, (1, 2019-03-30 13:00:00) to (29, 2019-06-29 22:00:00)\n",
      "Data columns (total 1 columns):\n",
      "trips    120210 non-null int64\n",
      "dtypes: int64(1)\n",
      "memory usage: 1.3 MB\n"
     ]
    }
   ],
   "source": [
    "rideshares = pd.DataFrame(rideshares_aggregate.loc[(slice('2018-03-09 15:30:00', '2020-03-09 09:00:00'), slice(1, 29)), :])\n",
    "rideshares.columns = ['trips']\n",
    "rideshares.sort_index()\n",
    "rideshares.info()"
   ]
  },
  {
   "cell_type": "markdown",
   "metadata": {},
   "source": [
    "### All Together\n",
    "\n",
    "Now that the datasets have all been reshaped and resampled into the same form, they can be combined."
   ]
  },
  {
   "cell_type": "code",
   "execution_count": 379,
   "metadata": {},
   "outputs": [],
   "source": [
    "# Merge the 3 datasets\n",
    "full_dataset = congestion.copy()\n",
    "full_dataset['rideshare_trips'] = rideshares.trips\n",
    "full_dataset['station_entries'] = station_entries.rides\n",
    "\n",
    "# Fill any NaN entries in rideshare and station with 0\n",
    "full_dataset.rideshare_trips.fillna(0, inplace=True)\n",
    "full_dataset.station_entries.fillna(0, inplace=True)\n",
    "\n",
    "# Remove duplicate/excess columns\n",
    "full_dataset = full_dataset.drop(columns=['region_id', 'Unnamed: 0'])"
   ]
  },
  {
   "cell_type": "code",
   "execution_count": 380,
   "metadata": {},
   "outputs": [
    {
     "data": {
      "text/html": [
       "<div>\n",
       "<style scoped>\n",
       "    .dataframe tbody tr th:only-of-type {\n",
       "        vertical-align: middle;\n",
       "    }\n",
       "\n",
       "    .dataframe tbody tr th {\n",
       "        vertical-align: top;\n",
       "    }\n",
       "\n",
       "    .dataframe thead th {\n",
       "        text-align: right;\n",
       "    }\n",
       "</style>\n",
       "<table border=\"1\" class=\"dataframe\">\n",
       "  <thead>\n",
       "    <tr style=\"text-align: right;\">\n",
       "      <th></th>\n",
       "      <th></th>\n",
       "      <th>speed</th>\n",
       "      <th>bus_count</th>\n",
       "      <th>num_reads</th>\n",
       "      <th>west</th>\n",
       "      <th>east</th>\n",
       "      <th>south</th>\n",
       "      <th>north</th>\n",
       "      <th>rideshare_trips</th>\n",
       "      <th>station_entries</th>\n",
       "    </tr>\n",
       "    <tr>\n",
       "      <th>time</th>\n",
       "      <th>region_id</th>\n",
       "      <th></th>\n",
       "      <th></th>\n",
       "      <th></th>\n",
       "      <th></th>\n",
       "      <th></th>\n",
       "      <th></th>\n",
       "      <th></th>\n",
       "      <th></th>\n",
       "      <th></th>\n",
       "    </tr>\n",
       "  </thead>\n",
       "  <tbody>\n",
       "    <tr>\n",
       "      <td rowspan=\"5\" valign=\"top\">2018-03-09 15:30:00</td>\n",
       "      <td>1</td>\n",
       "      <td>18.75</td>\n",
       "      <td>30.0</td>\n",
       "      <td>481.5</td>\n",
       "      <td>-87.709645</td>\n",
       "      <td>-87.654561</td>\n",
       "      <td>41.997946</td>\n",
       "      <td>42.026444</td>\n",
       "      <td>0.0</td>\n",
       "      <td>16035.0</td>\n",
       "    </tr>\n",
       "    <tr>\n",
       "      <td>2</td>\n",
       "      <td>24.89</td>\n",
       "      <td>43.0</td>\n",
       "      <td>727.5</td>\n",
       "      <td>-87.846210</td>\n",
       "      <td>-87.747456</td>\n",
       "      <td>41.960669</td>\n",
       "      <td>42.019100</td>\n",
       "      <td>0.0</td>\n",
       "      <td>14927.0</td>\n",
       "    </tr>\n",
       "    <tr>\n",
       "      <td>3</td>\n",
       "      <td>16.36</td>\n",
       "      <td>85.5</td>\n",
       "      <td>1360.5</td>\n",
       "      <td>-87.747456</td>\n",
       "      <td>-87.674590</td>\n",
       "      <td>41.960669</td>\n",
       "      <td>41.997946</td>\n",
       "      <td>0.0</td>\n",
       "      <td>15011.0</td>\n",
       "    </tr>\n",
       "    <tr>\n",
       "      <td>4</td>\n",
       "      <td>17.39</td>\n",
       "      <td>41.5</td>\n",
       "      <td>625.0</td>\n",
       "      <td>-87.674590</td>\n",
       "      <td>-87.646438</td>\n",
       "      <td>41.960669</td>\n",
       "      <td>41.997946</td>\n",
       "      <td>0.0</td>\n",
       "      <td>27565.0</td>\n",
       "    </tr>\n",
       "    <tr>\n",
       "      <td>5</td>\n",
       "      <td>19.09</td>\n",
       "      <td>79.0</td>\n",
       "      <td>1446.0</td>\n",
       "      <td>-87.846210</td>\n",
       "      <td>-87.747456</td>\n",
       "      <td>41.909269</td>\n",
       "      <td>41.960669</td>\n",
       "      <td>0.0</td>\n",
       "      <td>0.0</td>\n",
       "    </tr>\n",
       "  </tbody>\n",
       "</table>\n",
       "</div>"
      ],
      "text/plain": [
       "                               speed  bus_count  num_reads       west  \\\n",
       "time                region_id                                           \n",
       "2018-03-09 15:30:00 1          18.75       30.0      481.5 -87.709645   \n",
       "                    2          24.89       43.0      727.5 -87.846210   \n",
       "                    3          16.36       85.5     1360.5 -87.747456   \n",
       "                    4          17.39       41.5      625.0 -87.674590   \n",
       "                    5          19.09       79.0     1446.0 -87.846210   \n",
       "\n",
       "                                    east      south      north  \\\n",
       "time                region_id                                    \n",
       "2018-03-09 15:30:00 1         -87.654561  41.997946  42.026444   \n",
       "                    2         -87.747456  41.960669  42.019100   \n",
       "                    3         -87.674590  41.960669  41.997946   \n",
       "                    4         -87.646438  41.960669  41.997946   \n",
       "                    5         -87.747456  41.909269  41.960669   \n",
       "\n",
       "                               rideshare_trips  station_entries  \n",
       "time                region_id                                    \n",
       "2018-03-09 15:30:00 1                      0.0          16035.0  \n",
       "                    2                      0.0          14927.0  \n",
       "                    3                      0.0          15011.0  \n",
       "                    4                      0.0          27565.0  \n",
       "                    5                      0.0              0.0  "
      ]
     },
     "execution_count": 380,
     "metadata": {},
     "output_type": "execute_result"
    }
   ],
   "source": [
    "full_dataset.head()"
   ]
  },
  {
   "cell_type": "code",
   "execution_count": 381,
   "metadata": {},
   "outputs": [
    {
     "name": "stdout",
     "output_type": "stream",
     "text": [
      "<class 'pandas.core.frame.DataFrame'>\n",
      "MultiIndex: 1017204 entries, (2018-03-09 15:30:00, 1) to (2020-03-09 09:00:00, 29)\n",
      "Data columns (total 9 columns):\n",
      "speed              924690 non-null float64\n",
      "bus_count          924690 non-null float64\n",
      "num_reads          924690 non-null float64\n",
      "west               924690 non-null float64\n",
      "east               924690 non-null float64\n",
      "south              924690 non-null float64\n",
      "north              924690 non-null float64\n",
      "rideshare_trips    1017204 non-null float64\n",
      "station_entries    1017204 non-null float64\n",
      "dtypes: float64(9)\n",
      "memory usage: 75.0 MB\n"
     ]
    }
   ],
   "source": [
    "full_dataset.info()"
   ]
  },
  {
   "cell_type": "code",
   "execution_count": 382,
   "metadata": {},
   "outputs": [],
   "source": [
    "full_dataset.to_csv('data/full_dataset.csv')"
   ]
  },
  {
   "cell_type": "code",
   "execution_count": null,
   "metadata": {},
   "outputs": [],
   "source": []
  }
 ],
 "metadata": {
  "kernelspec": {
   "display_name": "Python 3",
   "language": "python",
   "name": "python3"
  },
  "language_info": {
   "codemirror_mode": {
    "name": "ipython",
    "version": 3
   },
   "file_extension": ".py",
   "mimetype": "text/x-python",
   "name": "python",
   "nbconvert_exporter": "python",
   "pygments_lexer": "ipython3",
   "version": "3.7.4"
  }
 },
 "nbformat": 4,
 "nbformat_minor": 2
}
