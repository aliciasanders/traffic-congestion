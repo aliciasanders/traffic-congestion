{
 "cells": [
  {
   "cell_type": "markdown",
   "metadata": {},
   "source": [
    "# Capstone 1 Data Wrangling\n",
    "\n",
    "In this project, I will collect and clean the datasets that will be used in my Capstone 1\n",
    "\n",
    "To begin, I downloaded the csv files for the 3 datasets from data.cityofchicago.org. The datasets used are:\n",
    "\n",
    "1. Transportation Network Providers - Trips: https://data.cityofchicago.org/Transportation/Transportation-Network-Providers-Trips/m6dm-c72p\n",
    "2. CTA - Ridership - 'L' Station Entries - Daily Totals: https://data.cityofchicago.org/Transportation/CTA-Ridership-L-Station-Entries-Daily-Totals/5neh-572f\n",
    "3. Chicago Traffic Tracker - Historical Congestion Estimates by Region - 2018-Current: https://data.cityofchicago.org/dataset/Chicago-Traffic-Tracker-Historical-Congestion-Esti/kf7e-cur8"
   ]
  },
  {
   "cell_type": "code",
   "execution_count": 1,
   "metadata": {},
   "outputs": [],
   "source": [
    "import pandas as pd\n",
    "import matplotlib.pyplot as plt"
   ]
  },
  {
   "cell_type": "markdown",
   "metadata": {},
   "source": [
    "## Previewing Data\n",
    "\n",
    "I select the relevant columns from the datasets (all columns from the 'L' station dataset are used), then read the firse few rows of the csv using pandas read_csv function. These first few rows will be used to get a quick overview of the structure of the datasets and to find any potential problems that can be solved before processign the whole dataset.\n",
    "\n",
    "Additionally, the read_csv call specifies that certain columns should be parsed as datetimes, and defines the index columns for the datasets.  \n",
    "For the rideshare dataset, trip id is the index column.  \n",
    "For the congestion dataset, time and region id together form the multiindex.  \n",
    "Finally, date and station id form the multiindex for the 'L' station dataset."
   ]
  },
  {
   "cell_type": "code",
   "execution_count": 2,
   "metadata": {},
   "outputs": [],
   "source": [
    "# Define relevant columns for the datasets\n",
    "rideshare_columns = [('Trip ID', 'trip_id'),\n",
    "                     ('Trip Start Timestamp', 'start_time'),\n",
    "                     ('Trip End Timestamp', 'end_time'),\n",
    "                     ('Trip Seconds', 'trip_seconds'),\n",
    "                     ('Trip Miles', 'trip_miles'),\n",
    "                     ('Fare', 'fare'),\n",
    "                     ('Tip', 'tip'),\n",
    "                     ('Additional Charges', 'additional_charges'),\n",
    "                     ('Trip Total', 'trip_total'),\n",
    "                     ('Shared Trip Authorized', 'shared_trip'),\n",
    "                     ('Trips Pooled', 'trips_pooled'),\n",
    "                     ('Pickup Centroid Latitude', 'pickup_lat'),\n",
    "                     ('Pickup Centroid Longitude', 'pickup_long'),\n",
    "                     ('Dropoff Centroid Latitude', 'dropoff_lat'),\n",
    "                     ('Dropoff Centroid Longitude', 'dropoff_long')]\n",
    "rideshare_source_columns, rideshare_column_names = list(zip(*rideshare_columns)) \n",
    "\n",
    "congestion_columns = [('TIME','time'),\n",
    "                      ('REGION_ID','region_id'),\n",
    "                      ('SPEED','speed'),\n",
    "                      ('REGION','region'),\n",
    "                      ('BUS_COUNT','bus_count'),\n",
    "                      ('NUM_READS','num_reads'),\n",
    "                      ('WEST','west'),\n",
    "                      ('EAST','east'),\n",
    "                      ('SOUTH','south'),\n",
    "                      ('NORTH','north')]\n",
    "congestion_source_columns, congestion_column_names = list(zip(*congestion_columns)) \n",
    "\n",
    "station_columns = [('station_id', 'station_id'),\n",
    "                   ('stationname', 'station_name'),\n",
    "                   ('date', 'date'),\n",
    "                   ('rides', 'rides')]\n",
    "station_source_columns, station_column_names = list(zip(*station_columns)) \n",
    "\n",
    "# load dataframes from csv files\n",
    "rideshares = pd.read_csv(\"data/rideshares_raw.csv\", \n",
    "                         parse_dates=['Trip Start Timestamp', 'Trip End Timestamp'], \n",
    "                         usecols=rideshare_source_columns,\n",
    "                         nrows=10000)\n",
    "rideshares.columns = rideshare_column_names\n",
    "rideshares = rideshares.set_index('trip_id')\n",
    "\n",
    "congestion = pd.read_csv(\"data/congestion_raw.csv\",\n",
    "                         parse_dates=['TIME'],\n",
    "                         usecols=congestion_source_columns,\n",
    "                         #nrows=10000\n",
    "                        )\n",
    "congestion.columns = congestion_column_names\n",
    "congestion = congestion.set_index(['time', 'region_id'])\n",
    "congestion = congestion.sort_index()\n",
    "\n",
    "station_entries = pd.read_csv(\"data/station_entries_raw.csv\",\n",
    "                              parse_dates=['date'],\n",
    "                              usecols=station_source_columns,\n",
    "                              #nrows=10000\n",
    "                             )\n",
    "station_entries.columns = station_column_names\n",
    "station_entries = station_entries.set_index(['date', 'station_id'])\n",
    "station_entries = station_entries.sort_index()\n"
   ]
  },
  {
   "cell_type": "markdown",
   "metadata": {},
   "source": [
    "### Rideshare dataset preview"
   ]
  },
  {
   "cell_type": "code",
   "execution_count": 3,
   "metadata": {},
   "outputs": [
    {
     "name": "stdout",
     "output_type": "stream",
     "text": [
      "<class 'pandas.core.frame.DataFrame'>\n",
      "Index: 10000 entries, 1371779686b5076f0ef2ce6b270309e17c30fb52 to 1385616b4f56aed745395f34a6e1fb30c40edd96\n",
      "Data columns (total 14 columns):\n",
      " #   Column              Non-Null Count  Dtype         \n",
      "---  ------              --------------  -----         \n",
      " 0   start_time          10000 non-null  datetime64[ns]\n",
      " 1   end_time            10000 non-null  datetime64[ns]\n",
      " 2   trip_seconds        10000 non-null  int64         \n",
      " 3   trip_miles          10000 non-null  float64       \n",
      " 4   fare                10000 non-null  float64       \n",
      " 5   tip                 10000 non-null  int64         \n",
      " 6   additional_charges  10000 non-null  float64       \n",
      " 7   trip_total          10000 non-null  float64       \n",
      " 8   shared_trip         10000 non-null  bool          \n",
      " 9   trips_pooled        10000 non-null  int64         \n",
      " 10  pickup_lat          9456 non-null   float64       \n",
      " 11  pickup_long         9456 non-null   float64       \n",
      " 12  dropoff_lat         9422 non-null   float64       \n",
      " 13  dropoff_long        9422 non-null   float64       \n",
      "dtypes: bool(1), datetime64[ns](2), float64(8), int64(3)\n",
      "memory usage: 1.1+ MB\n"
     ]
    }
   ],
   "source": [
    "rideshares.info()"
   ]
  },
  {
   "cell_type": "markdown",
   "metadata": {},
   "source": [
    "From the first 1000 lines we can see that some of the entries lack pickup and dropoff locations. These entries will need to be cleaned. Otherwise, the data looks to be in good shape"
   ]
  },
  {
   "cell_type": "code",
   "execution_count": 4,
   "metadata": {},
   "outputs": [
    {
     "data": {
      "text/html": [
       "<div>\n",
       "<style scoped>\n",
       "    .dataframe tbody tr th:only-of-type {\n",
       "        vertical-align: middle;\n",
       "    }\n",
       "\n",
       "    .dataframe tbody tr th {\n",
       "        vertical-align: top;\n",
       "    }\n",
       "\n",
       "    .dataframe thead th {\n",
       "        text-align: right;\n",
       "    }\n",
       "</style>\n",
       "<table border=\"1\" class=\"dataframe\">\n",
       "  <thead>\n",
       "    <tr style=\"text-align: right;\">\n",
       "      <th></th>\n",
       "      <th>trip_seconds</th>\n",
       "      <th>trip_miles</th>\n",
       "      <th>fare</th>\n",
       "      <th>tip</th>\n",
       "      <th>additional_charges</th>\n",
       "      <th>trip_total</th>\n",
       "      <th>trips_pooled</th>\n",
       "      <th>pickup_lat</th>\n",
       "      <th>pickup_long</th>\n",
       "      <th>dropoff_lat</th>\n",
       "      <th>dropoff_long</th>\n",
       "    </tr>\n",
       "  </thead>\n",
       "  <tbody>\n",
       "    <tr>\n",
       "      <th>count</th>\n",
       "      <td>10000.000000</td>\n",
       "      <td>10000.000000</td>\n",
       "      <td>10000.000000</td>\n",
       "      <td>10000.000000</td>\n",
       "      <td>10000.000000</td>\n",
       "      <td>10000.000000</td>\n",
       "      <td>10000.000000</td>\n",
       "      <td>9456.000000</td>\n",
       "      <td>9456.000000</td>\n",
       "      <td>9422.000000</td>\n",
       "      <td>9422.000000</td>\n",
       "    </tr>\n",
       "    <tr>\n",
       "      <th>mean</th>\n",
       "      <td>1039.594000</td>\n",
       "      <td>5.802590</td>\n",
       "      <td>10.894000</td>\n",
       "      <td>0.545300</td>\n",
       "      <td>2.712677</td>\n",
       "      <td>14.151977</td>\n",
       "      <td>1.332800</td>\n",
       "      <td>41.891526</td>\n",
       "      <td>-87.665985</td>\n",
       "      <td>41.892330</td>\n",
       "      <td>-87.667860</td>\n",
       "    </tr>\n",
       "    <tr>\n",
       "      <th>std</th>\n",
       "      <td>730.329304</td>\n",
       "      <td>6.507974</td>\n",
       "      <td>9.718614</td>\n",
       "      <td>1.590157</td>\n",
       "      <td>1.941378</td>\n",
       "      <td>11.292299</td>\n",
       "      <td>0.799067</td>\n",
       "      <td>0.062636</td>\n",
       "      <td>0.060404</td>\n",
       "      <td>0.062681</td>\n",
       "      <td>0.063937</td>\n",
       "    </tr>\n",
       "    <tr>\n",
       "      <th>min</th>\n",
       "      <td>7.000000</td>\n",
       "      <td>0.000000</td>\n",
       "      <td>0.000000</td>\n",
       "      <td>0.000000</td>\n",
       "      <td>0.000000</td>\n",
       "      <td>0.670000</td>\n",
       "      <td>1.000000</td>\n",
       "      <td>41.650222</td>\n",
       "      <td>-87.913625</td>\n",
       "      <td>41.660136</td>\n",
       "      <td>-87.913625</td>\n",
       "    </tr>\n",
       "    <tr>\n",
       "      <th>25%</th>\n",
       "      <td>524.750000</td>\n",
       "      <td>1.800000</td>\n",
       "      <td>5.000000</td>\n",
       "      <td>0.000000</td>\n",
       "      <td>2.500000</td>\n",
       "      <td>7.550000</td>\n",
       "      <td>1.000000</td>\n",
       "      <td>41.877406</td>\n",
       "      <td>-87.680162</td>\n",
       "      <td>41.877406</td>\n",
       "      <td>-87.683643</td>\n",
       "    </tr>\n",
       "    <tr>\n",
       "      <th>50%</th>\n",
       "      <td>850.000000</td>\n",
       "      <td>3.600000</td>\n",
       "      <td>7.500000</td>\n",
       "      <td>0.000000</td>\n",
       "      <td>2.550000</td>\n",
       "      <td>10.050000</td>\n",
       "      <td>1.000000</td>\n",
       "      <td>41.893216</td>\n",
       "      <td>-87.652365</td>\n",
       "      <td>41.893216</td>\n",
       "      <td>-87.651771</td>\n",
       "    </tr>\n",
       "    <tr>\n",
       "      <th>75%</th>\n",
       "      <td>1359.000000</td>\n",
       "      <td>7.200000</td>\n",
       "      <td>12.500000</td>\n",
       "      <td>0.000000</td>\n",
       "      <td>2.550000</td>\n",
       "      <td>15.350000</td>\n",
       "      <td>1.000000</td>\n",
       "      <td>41.929078</td>\n",
       "      <td>-87.631864</td>\n",
       "      <td>41.930579</td>\n",
       "      <td>-87.631717</td>\n",
       "    </tr>\n",
       "    <tr>\n",
       "      <th>max</th>\n",
       "      <td>11135.000000</td>\n",
       "      <td>193.300000</td>\n",
       "      <td>400.000000</td>\n",
       "      <td>50.000000</td>\n",
       "      <td>21.200000</td>\n",
       "      <td>402.800000</td>\n",
       "      <td>9.000000</td>\n",
       "      <td>42.021224</td>\n",
       "      <td>-87.534903</td>\n",
       "      <td>42.021224</td>\n",
       "      <td>-87.534903</td>\n",
       "    </tr>\n",
       "  </tbody>\n",
       "</table>\n",
       "</div>"
      ],
      "text/plain": [
       "       trip_seconds    trip_miles          fare           tip  \\\n",
       "count  10000.000000  10000.000000  10000.000000  10000.000000   \n",
       "mean    1039.594000      5.802590     10.894000      0.545300   \n",
       "std      730.329304      6.507974      9.718614      1.590157   \n",
       "min        7.000000      0.000000      0.000000      0.000000   \n",
       "25%      524.750000      1.800000      5.000000      0.000000   \n",
       "50%      850.000000      3.600000      7.500000      0.000000   \n",
       "75%     1359.000000      7.200000     12.500000      0.000000   \n",
       "max    11135.000000    193.300000    400.000000     50.000000   \n",
       "\n",
       "       additional_charges    trip_total  trips_pooled   pickup_lat  \\\n",
       "count        10000.000000  10000.000000  10000.000000  9456.000000   \n",
       "mean             2.712677     14.151977      1.332800    41.891526   \n",
       "std              1.941378     11.292299      0.799067     0.062636   \n",
       "min              0.000000      0.670000      1.000000    41.650222   \n",
       "25%              2.500000      7.550000      1.000000    41.877406   \n",
       "50%              2.550000     10.050000      1.000000    41.893216   \n",
       "75%              2.550000     15.350000      1.000000    41.929078   \n",
       "max             21.200000    402.800000      9.000000    42.021224   \n",
       "\n",
       "       pickup_long  dropoff_lat  dropoff_long  \n",
       "count  9456.000000  9422.000000   9422.000000  \n",
       "mean    -87.665985    41.892330    -87.667860  \n",
       "std       0.060404     0.062681      0.063937  \n",
       "min     -87.913625    41.660136    -87.913625  \n",
       "25%     -87.680162    41.877406    -87.683643  \n",
       "50%     -87.652365    41.893216    -87.651771  \n",
       "75%     -87.631864    41.930579    -87.631717  \n",
       "max     -87.534903    42.021224    -87.534903  "
      ]
     },
     "execution_count": 4,
     "metadata": {},
     "output_type": "execute_result"
    }
   ],
   "source": [
    "rideshares.describe()"
   ]
  },
  {
   "cell_type": "markdown",
   "metadata": {},
   "source": [
    "### Congestion Dataset Preview"
   ]
  },
  {
   "cell_type": "code",
   "execution_count": 5,
   "metadata": {},
   "outputs": [
    {
     "name": "stdout",
     "output_type": "stream",
     "text": [
      "<class 'pandas.core.frame.DataFrame'>\n",
      "MultiIndex: 2851829 entries, (Timestamp('2018-03-09 15:40:41'), 1) to (Timestamp('2020-03-20 20:50:46'), 29)\n",
      "Data columns (total 8 columns):\n",
      " #   Column     Dtype  \n",
      "---  ------     -----  \n",
      " 0   speed      float64\n",
      " 1   region     object \n",
      " 2   bus_count  int64  \n",
      " 3   num_reads  int64  \n",
      " 4   west       float64\n",
      " 5   east       float64\n",
      " 6   south      float64\n",
      " 7   north      float64\n",
      "dtypes: float64(5), int64(2), object(1)\n",
      "memory usage: 188.5+ MB\n"
     ]
    }
   ],
   "source": [
    "congestion.info()"
   ]
  },
  {
   "cell_type": "markdown",
   "metadata": {},
   "source": [
    "congestion.info() shows that the columns seem to be properly formatted and complete."
   ]
  },
  {
   "cell_type": "code",
   "execution_count": 6,
   "metadata": {},
   "outputs": [
    {
     "data": {
      "text/html": [
       "<div>\n",
       "<style scoped>\n",
       "    .dataframe tbody tr th:only-of-type {\n",
       "        vertical-align: middle;\n",
       "    }\n",
       "\n",
       "    .dataframe tbody tr th {\n",
       "        vertical-align: top;\n",
       "    }\n",
       "\n",
       "    .dataframe thead th {\n",
       "        text-align: right;\n",
       "    }\n",
       "</style>\n",
       "<table border=\"1\" class=\"dataframe\">\n",
       "  <thead>\n",
       "    <tr style=\"text-align: right;\">\n",
       "      <th></th>\n",
       "      <th>speed</th>\n",
       "      <th>bus_count</th>\n",
       "      <th>num_reads</th>\n",
       "      <th>west</th>\n",
       "      <th>east</th>\n",
       "      <th>south</th>\n",
       "      <th>north</th>\n",
       "    </tr>\n",
       "  </thead>\n",
       "  <tbody>\n",
       "    <tr>\n",
       "      <th>count</th>\n",
       "      <td>2.851829e+06</td>\n",
       "      <td>2.851829e+06</td>\n",
       "      <td>2.851829e+06</td>\n",
       "      <td>2.851829e+06</td>\n",
       "      <td>2.851829e+06</td>\n",
       "      <td>2.851829e+06</td>\n",
       "      <td>2.851829e+06</td>\n",
       "    </tr>\n",
       "    <tr>\n",
       "      <th>mean</th>\n",
       "      <td>2.305702e+01</td>\n",
       "      <td>3.647761e+01</td>\n",
       "      <td>6.693841e+02</td>\n",
       "      <td>-8.770191e+01</td>\n",
       "      <td>-8.764235e+01</td>\n",
       "      <td>4.182452e+01</td>\n",
       "      <td>4.186771e+01</td>\n",
       "    </tr>\n",
       "    <tr>\n",
       "      <th>std</th>\n",
       "      <td>8.496957e+00</td>\n",
       "      <td>2.911388e+01</td>\n",
       "      <td>5.517743e+02</td>\n",
       "      <td>6.765981e-02</td>\n",
       "      <td>6.250787e-02</td>\n",
       "      <td>9.740192e-02</td>\n",
       "      <td>9.437662e-02</td>\n",
       "    </tr>\n",
       "    <tr>\n",
       "      <th>min</th>\n",
       "      <td>0.000000e+00</td>\n",
       "      <td>0.000000e+00</td>\n",
       "      <td>0.000000e+00</td>\n",
       "      <td>-8.784621e+01</td>\n",
       "      <td>-8.774746e+01</td>\n",
       "      <td>4.164414e+01</td>\n",
       "      <td>4.167748e+01</td>\n",
       "    </tr>\n",
       "    <tr>\n",
       "      <th>25%</th>\n",
       "      <td>2.114000e+01</td>\n",
       "      <td>1.500000e+01</td>\n",
       "      <td>2.560000e+02</td>\n",
       "      <td>-8.774746e+01</td>\n",
       "      <td>-8.767459e+01</td>\n",
       "      <td>4.176407e+01</td>\n",
       "      <td>4.182279e+01</td>\n",
       "    </tr>\n",
       "    <tr>\n",
       "      <th>50%</th>\n",
       "      <td>2.455000e+01</td>\n",
       "      <td>3.100000e+01</td>\n",
       "      <td>5.490000e+02</td>\n",
       "      <td>-8.768537e+01</td>\n",
       "      <td>-8.764644e+01</td>\n",
       "      <td>4.182279e+01</td>\n",
       "      <td>4.186613e+01</td>\n",
       "    </tr>\n",
       "    <tr>\n",
       "      <th>75%</th>\n",
       "      <td>2.755000e+01</td>\n",
       "      <td>5.100000e+01</td>\n",
       "      <td>9.420000e+02</td>\n",
       "      <td>-8.764721e+01</td>\n",
       "      <td>-8.760633e+01</td>\n",
       "      <td>4.190927e+01</td>\n",
       "      <td>4.193184e+01</td>\n",
       "    </tr>\n",
       "    <tr>\n",
       "      <th>max</th>\n",
       "      <td>1.738600e+02</td>\n",
       "      <td>2.650000e+02</td>\n",
       "      <td>7.015000e+03</td>\n",
       "      <td>-8.758485e+01</td>\n",
       "      <td>-8.752444e+01</td>\n",
       "      <td>4.199795e+01</td>\n",
       "      <td>4.202644e+01</td>\n",
       "    </tr>\n",
       "  </tbody>\n",
       "</table>\n",
       "</div>"
      ],
      "text/plain": [
       "              speed     bus_count     num_reads          west          east  \\\n",
       "count  2.851829e+06  2.851829e+06  2.851829e+06  2.851829e+06  2.851829e+06   \n",
       "mean   2.305702e+01  3.647761e+01  6.693841e+02 -8.770191e+01 -8.764235e+01   \n",
       "std    8.496957e+00  2.911388e+01  5.517743e+02  6.765981e-02  6.250787e-02   \n",
       "min    0.000000e+00  0.000000e+00  0.000000e+00 -8.784621e+01 -8.774746e+01   \n",
       "25%    2.114000e+01  1.500000e+01  2.560000e+02 -8.774746e+01 -8.767459e+01   \n",
       "50%    2.455000e+01  3.100000e+01  5.490000e+02 -8.768537e+01 -8.764644e+01   \n",
       "75%    2.755000e+01  5.100000e+01  9.420000e+02 -8.764721e+01 -8.760633e+01   \n",
       "max    1.738600e+02  2.650000e+02  7.015000e+03 -8.758485e+01 -8.752444e+01   \n",
       "\n",
       "              south         north  \n",
       "count  2.851829e+06  2.851829e+06  \n",
       "mean   4.182452e+01  4.186771e+01  \n",
       "std    9.740192e-02  9.437662e-02  \n",
       "min    4.164414e+01  4.167748e+01  \n",
       "25%    4.176407e+01  4.182279e+01  \n",
       "50%    4.182279e+01  4.186613e+01  \n",
       "75%    4.190927e+01  4.193184e+01  \n",
       "max    4.199795e+01  4.202644e+01  "
      ]
     },
     "execution_count": 6,
     "metadata": {},
     "output_type": "execute_result"
    }
   ],
   "source": [
    "congestion.describe()"
   ]
  },
  {
   "cell_type": "markdown",
   "metadata": {},
   "source": [
    "congestion.describe() shows that at least one entry has a speed of 0, which may indicate incomplete data. This may be an outlier. Additionally instances of bus_count and num_reads of 0 are likely missing data."
   ]
  },
  {
   "cell_type": "markdown",
   "metadata": {},
   "source": [
    "### 'L' station dataset preview"
   ]
  },
  {
   "cell_type": "code",
   "execution_count": 7,
   "metadata": {},
   "outputs": [
    {
     "name": "stdout",
     "output_type": "stream",
     "text": [
      "<class 'pandas.core.frame.DataFrame'>\n",
      "MultiIndex: 988858 entries, (Timestamp('2001-01-01 00:00:00'), 40010) to (Timestamp('2019-12-31 00:00:00'), 41700)\n",
      "Data columns (total 2 columns):\n",
      " #   Column        Non-Null Count   Dtype \n",
      "---  ------        --------------   ----- \n",
      " 0   station_name  988858 non-null  object\n",
      " 1   rides         988858 non-null  int64 \n",
      "dtypes: int64(1), object(1)\n",
      "memory usage: 18.9+ MB\n"
     ]
    }
   ],
   "source": [
    "station_entries.info()"
   ]
  },
  {
   "cell_type": "markdown",
   "metadata": {},
   "source": [
    "station_entries.info() shows that this sample of the columns seem to be properly formatted and complete."
   ]
  },
  {
   "cell_type": "code",
   "execution_count": 8,
   "metadata": {},
   "outputs": [
    {
     "data": {
      "text/html": [
       "<div>\n",
       "<style scoped>\n",
       "    .dataframe tbody tr th:only-of-type {\n",
       "        vertical-align: middle;\n",
       "    }\n",
       "\n",
       "    .dataframe tbody tr th {\n",
       "        vertical-align: top;\n",
       "    }\n",
       "\n",
       "    .dataframe thead th {\n",
       "        text-align: right;\n",
       "    }\n",
       "</style>\n",
       "<table border=\"1\" class=\"dataframe\">\n",
       "  <thead>\n",
       "    <tr style=\"text-align: right;\">\n",
       "      <th></th>\n",
       "      <th>rides</th>\n",
       "    </tr>\n",
       "  </thead>\n",
       "  <tbody>\n",
       "    <tr>\n",
       "      <th>count</th>\n",
       "      <td>988858.000000</td>\n",
       "    </tr>\n",
       "    <tr>\n",
       "      <th>mean</th>\n",
       "      <td>3322.844864</td>\n",
       "    </tr>\n",
       "    <tr>\n",
       "      <th>std</th>\n",
       "      <td>3215.420986</td>\n",
       "    </tr>\n",
       "    <tr>\n",
       "      <th>min</th>\n",
       "      <td>0.000000</td>\n",
       "    </tr>\n",
       "    <tr>\n",
       "      <th>25%</th>\n",
       "      <td>1123.000000</td>\n",
       "    </tr>\n",
       "    <tr>\n",
       "      <th>50%</th>\n",
       "      <td>2324.000000</td>\n",
       "    </tr>\n",
       "    <tr>\n",
       "      <th>75%</th>\n",
       "      <td>4351.000000</td>\n",
       "    </tr>\n",
       "    <tr>\n",
       "      <th>max</th>\n",
       "      <td>36323.000000</td>\n",
       "    </tr>\n",
       "  </tbody>\n",
       "</table>\n",
       "</div>"
      ],
      "text/plain": [
       "               rides\n",
       "count  988858.000000\n",
       "mean     3322.844864\n",
       "std      3215.420986\n",
       "min         0.000000\n",
       "25%      1123.000000\n",
       "50%      2324.000000\n",
       "75%      4351.000000\n",
       "max     36323.000000"
      ]
     },
     "execution_count": 8,
     "metadata": {},
     "output_type": "execute_result"
    }
   ],
   "source": [
    "station_entries.describe()"
   ]
  },
  {
   "cell_type": "markdown",
   "metadata": {},
   "source": [
    "station_entries.describe() shows a wide range in the rides, including at least one value at 0, but visual inspection will have to be used to see if any entries seem to be outliers."
   ]
  },
  {
   "cell_type": "code",
   "execution_count": 9,
   "metadata": {},
   "outputs": [
    {
     "data": {
      "image/png": "[encoded data removed]",
      "text/plain": [
       "<Figure size 432x288 with 2 Axes>"
      ]
     },
     "metadata": {
      "needs_background": "light"
     },
     "output_type": "display_data"
    }
   ],
   "source": [
    "plt.subplot(1, 2, 1)\n",
    "station_entries.rides.plot(kind='hist')\n",
    "plt.subplot(1, 2, 2)\n",
    "station_entries.rides.plot(kind='box')\n",
    "plt.show()"
   ]
  },
  {
   "cell_type": "markdown",
   "metadata": {},
   "source": [
    "With the visual inspection, the ridership frequency appears fairly smooth. The boxplot shows many outliers above the whisker, but there aren't any clear outliers that should be disconted."
   ]
  },
  {
   "cell_type": "markdown",
   "metadata": {},
   "source": [
    "## Full Dataset Processing\n",
    "\n",
    "After previewing the datasets, I import the csv in chunks as a TextFileReader from pandas. This allows me to process the large datasets without overloading the memory, after which I will append the cleaned data chunk by chunk into a new csv."
   ]
  },
  {
   "cell_type": "code",
   "execution_count": 10,
   "metadata": {},
   "outputs": [],
   "source": [
    "rideshares_reader = pd.read_csv(\"data/rideshares_raw.csv\", \n",
    "                                parse_dates=['Trip Start Timestamp', 'Trip End Timestamp'], \n",
    "                                usecols=rideshare_source_columns,\n",
    "                                iterator=True,\n",
    "                                chunksize=5000)\n",
    "\n",
    "congestion_reader = pd.read_csv(\"data/congestion_raw.csv\",\n",
    "                                parse_dates=['TIME'],\n",
    "                                usecols=congestion_source_columns,\n",
    "                                iterator=True,\n",
    "                                chunksize=5000)\n",
    "station_entries_reader = pd.read_csv(\"data/station_entries_raw.csv\",\n",
    "                                     parse_dates=['date'],\n",
    "                                     usecols=station_source_columns,\n",
    "                                     iterator=True,\n",
    "                                     chunksize=5000)"
   ]
  },
  {
   "cell_type": "code",
   "execution_count": 11,
   "metadata": {},
   "outputs": [],
   "source": [
    "# Station Entries processing\n",
    "firstChunk = True\n",
    "for station_entries_chunk in station_entries_reader:\n",
    "    # Drop entries with missing values\n",
    "    station_entries_chunk = station_entries_chunk.dropna()\n",
    "    \n",
    "    if firstChunk:\n",
    "        # Rename the columns for saving\n",
    "        station_entries_chunk.columns = station_column_names\n",
    "        # Save the first chunk normally\n",
    "        station_entries_chunk.to_csv('data/station_entries.csv')\n",
    "    else:\n",
    "        # Append the second chunk and don't include the header\n",
    "        station_entries_chunk.to_csv('data/station_entries.csv', mode='a', header=False)\n",
    "    firstChunk = False"
   ]
  },
  {
   "cell_type": "code",
   "execution_count": 12,
   "metadata": {},
   "outputs": [],
   "source": [
    "#Congestion Processing\n",
    "firstChunk = True\n",
    "for congestion_chunk in congestion_reader:\n",
    "    # Drop entries with missing values\n",
    "    congestion_chunk = congestion_chunk.dropna()\n",
    "    # Drop entries with speed 0\n",
    "    congestion_chunk.drop(congestion_chunk.loc[congestion_chunk[\"SPEED\"]==0].index, inplace=True)\n",
    "    # Drop entries with bus_count 0\n",
    "    congestion_chunk.drop(congestion_chunk.loc[congestion_chunk[\"BUS_COUNT\"]==0].index, inplace=True)\n",
    "    # Drop entries with num_reads 0\n",
    "    congestion_chunk.drop(congestion_chunk.loc[congestion_chunk[\"NUM_READS\"]==0].index, inplace=True)\n",
    "    \n",
    "    if firstChunk:\n",
    "        # Rename the columns for saving\n",
    "        congestion_chunk.columns = congestion_column_names\n",
    "        # Save the first chunk normally\n",
    "        congestion_chunk.to_csv('data/congestion.csv')\n",
    "    else:\n",
    "        # Append the second chunk and don't include the header\n",
    "        congestion_chunk.to_csv('data/congestion.csv', mode='a', header=False)\n",
    "    firstChunk = False"
   ]
  },
  {
   "cell_type": "code",
   "execution_count": 13,
   "metadata": {},
   "outputs": [],
   "source": [
    "#Rideshare Processing\n",
    "firstChunk = True\n",
    "for rideshares_chunk in rideshares_reader:\n",
    "    # Drop entries with missing values\n",
    "    rideshares_chunk = rideshares_chunk.dropna()\n",
    "    \n",
    "    if firstChunk:\n",
    "        # Rename the columns for saving the first chunk\n",
    "        rideshares_chunk.columns = rideshare_column_names\n",
    "        # Save the first chunk normally\n",
    "        rideshares_chunk.to_csv('data/rideshares.csv')\n",
    "    else:\n",
    "        # Append the second chunk and don't include the header\n",
    "        rideshares_chunk.to_csv('data/rideshares.csv', mode='a', header=False)\n",
    "    firstChunk = False"
   ]
  },
  {
   "cell_type": "markdown",
   "metadata": {},
   "source": [
    "## Sampling processed data"
   ]
  },
  {
   "cell_type": "code",
   "execution_count": 14,
   "metadata": {},
   "outputs": [],
   "source": [
    "# load dataframes from csv files, including correct index\n",
    "rideshares_clean = pd.read_csv(\"data/rideshares.csv\", \n",
    "                               parse_dates=['start_time', 'end_time'], \n",
    "                               index_col='trip_id',\n",
    "                               nrows=1000\n",
    "                              )\n",
    "\n",
    "congestion_clean = pd.read_csv(\"data/congestion.csv\",\n",
    "                               parse_dates=['time'],\n",
    "                               index_col=['time', 'region_id'],\n",
    "                               nrows=1000\n",
    "                              )\n",
    "congestion_clean = congestion_clean.sort_index()\n",
    "\n",
    "station_entries_clean = pd.read_csv(\"data/station_entries.csv\",\n",
    "                                    parse_dates=['date'],\n",
    "                                    #index_col=['date', 'station_id'],\n",
    "                               nrows=1000\n",
    "                                   )\n",
    "station_entries_clean = station_entries_clean.sort_index()"
   ]
  },
  {
   "cell_type": "code",
   "execution_count": 15,
   "metadata": {},
   "outputs": [
    {
     "name": "stdout",
     "output_type": "stream",
     "text": [
      "<class 'pandas.core.frame.DataFrame'>\n",
      "Index: 1000 entries, 1371779686b5076f0ef2ce6b270309e17c30fb52 to 1373b304ec4fabdfae77c3d63ac59ae142c41043\n",
      "Data columns (total 15 columns):\n",
      " #   Column              Non-Null Count  Dtype         \n",
      "---  ------              --------------  -----         \n",
      " 0   Unnamed: 0          1000 non-null   int64         \n",
      " 1   start_time          1000 non-null   datetime64[ns]\n",
      " 2   end_time            1000 non-null   datetime64[ns]\n",
      " 3   trip_seconds        1000 non-null   int64         \n",
      " 4   trip_miles          1000 non-null   float64       \n",
      " 5   fare                1000 non-null   float64       \n",
      " 6   tip                 1000 non-null   int64         \n",
      " 7   additional_charges  1000 non-null   float64       \n",
      " 8   trip_total          1000 non-null   float64       \n",
      " 9   shared_trip         1000 non-null   bool          \n",
      " 10  trips_pooled        1000 non-null   int64         \n",
      " 11  pickup_lat          1000 non-null   float64       \n",
      " 12  pickup_long         1000 non-null   float64       \n",
      " 13  dropoff_lat         1000 non-null   float64       \n",
      " 14  dropoff_long        1000 non-null   float64       \n",
      "dtypes: bool(1), datetime64[ns](2), float64(8), int64(4)\n",
      "memory usage: 118.2+ KB\n"
     ]
    }
   ],
   "source": [
    "# Rideshares data\n",
    "rideshares_clean.info()"
   ]
  },
  {
   "cell_type": "code",
   "execution_count": 16,
   "metadata": {},
   "outputs": [
    {
     "data": {
      "text/html": [
       "<div>\n",
       "<style scoped>\n",
       "    .dataframe tbody tr th:only-of-type {\n",
       "        vertical-align: middle;\n",
       "    }\n",
       "\n",
       "    .dataframe tbody tr th {\n",
       "        vertical-align: top;\n",
       "    }\n",
       "\n",
       "    .dataframe thead th {\n",
       "        text-align: right;\n",
       "    }\n",
       "</style>\n",
       "<table border=\"1\" class=\"dataframe\">\n",
       "  <thead>\n",
       "    <tr style=\"text-align: right;\">\n",
       "      <th></th>\n",
       "      <th>Unnamed: 0</th>\n",
       "      <th>start_time</th>\n",
       "      <th>end_time</th>\n",
       "      <th>trip_seconds</th>\n",
       "      <th>trip_miles</th>\n",
       "      <th>fare</th>\n",
       "      <th>tip</th>\n",
       "      <th>additional_charges</th>\n",
       "      <th>trip_total</th>\n",
       "      <th>shared_trip</th>\n",
       "      <th>trips_pooled</th>\n",
       "      <th>pickup_lat</th>\n",
       "      <th>pickup_long</th>\n",
       "      <th>dropoff_lat</th>\n",
       "      <th>dropoff_long</th>\n",
       "    </tr>\n",
       "    <tr>\n",
       "      <th>trip_id</th>\n",
       "      <th></th>\n",
       "      <th></th>\n",
       "      <th></th>\n",
       "      <th></th>\n",
       "      <th></th>\n",
       "      <th></th>\n",
       "      <th></th>\n",
       "      <th></th>\n",
       "      <th></th>\n",
       "      <th></th>\n",
       "      <th></th>\n",
       "      <th></th>\n",
       "      <th></th>\n",
       "      <th></th>\n",
       "      <th></th>\n",
       "    </tr>\n",
       "  </thead>\n",
       "  <tbody>\n",
       "    <tr>\n",
       "      <th>1371779686b5076f0ef2ce6b270309e17c30fb52</th>\n",
       "      <td>0</td>\n",
       "      <td>2019-01-20 10:15:00</td>\n",
       "      <td>2019-01-20 10:30:00</td>\n",
       "      <td>512</td>\n",
       "      <td>2.1</td>\n",
       "      <td>10.0</td>\n",
       "      <td>0</td>\n",
       "      <td>2.55</td>\n",
       "      <td>12.55</td>\n",
       "      <td>False</td>\n",
       "      <td>1</td>\n",
       "      <td>41.943155</td>\n",
       "      <td>-87.640698</td>\n",
       "      <td>41.922083</td>\n",
       "      <td>-87.634156</td>\n",
       "    </tr>\n",
       "    <tr>\n",
       "      <th>13717811bd7f59aaa7f2bc1837b6d024e16163a2</th>\n",
       "      <td>2</td>\n",
       "      <td>2019-01-03 22:15:00</td>\n",
       "      <td>2019-01-03 22:30:00</td>\n",
       "      <td>600</td>\n",
       "      <td>4.4</td>\n",
       "      <td>10.0</td>\n",
       "      <td>1</td>\n",
       "      <td>2.55</td>\n",
       "      <td>13.55</td>\n",
       "      <td>False</td>\n",
       "      <td>1</td>\n",
       "      <td>41.884768</td>\n",
       "      <td>-87.684147</td>\n",
       "      <td>41.893216</td>\n",
       "      <td>-87.637844</td>\n",
       "    </tr>\n",
       "    <tr>\n",
       "      <th>137178fb62c3e326adfc078fa1a8275ecffcedb1</th>\n",
       "      <td>5</td>\n",
       "      <td>2019-02-11 05:45:00</td>\n",
       "      <td>2019-02-11 05:45:00</td>\n",
       "      <td>378</td>\n",
       "      <td>1.6</td>\n",
       "      <td>5.0</td>\n",
       "      <td>0</td>\n",
       "      <td>2.55</td>\n",
       "      <td>7.55</td>\n",
       "      <td>False</td>\n",
       "      <td>1</td>\n",
       "      <td>41.944227</td>\n",
       "      <td>-87.655998</td>\n",
       "      <td>41.944227</td>\n",
       "      <td>-87.655998</td>\n",
       "    </tr>\n",
       "    <tr>\n",
       "      <th>1371794988a3faa617417f5d865ace5b12e1953f</th>\n",
       "      <td>6</td>\n",
       "      <td>2019-03-17 00:15:00</td>\n",
       "      <td>2019-03-17 00:15:00</td>\n",
       "      <td>307</td>\n",
       "      <td>0.7</td>\n",
       "      <td>5.0</td>\n",
       "      <td>0</td>\n",
       "      <td>2.55</td>\n",
       "      <td>7.55</td>\n",
       "      <td>False</td>\n",
       "      <td>1</td>\n",
       "      <td>41.907520</td>\n",
       "      <td>-87.626659</td>\n",
       "      <td>41.898332</td>\n",
       "      <td>-87.620763</td>\n",
       "    </tr>\n",
       "    <tr>\n",
       "      <th>1371796290805afb8fa8c5b55e76e48ef47a2eec</th>\n",
       "      <td>7</td>\n",
       "      <td>2019-02-12 19:00:00</td>\n",
       "      <td>2019-02-12 19:00:00</td>\n",
       "      <td>382</td>\n",
       "      <td>1.6</td>\n",
       "      <td>5.0</td>\n",
       "      <td>0</td>\n",
       "      <td>0.00</td>\n",
       "      <td>5.00</td>\n",
       "      <td>True</td>\n",
       "      <td>1</td>\n",
       "      <td>41.907520</td>\n",
       "      <td>-87.626659</td>\n",
       "      <td>41.921855</td>\n",
       "      <td>-87.646211</td>\n",
       "    </tr>\n",
       "  </tbody>\n",
       "</table>\n",
       "</div>"
      ],
      "text/plain": [
       "                                          Unnamed: 0          start_time  \\\n",
       "trip_id                                                                    \n",
       "1371779686b5076f0ef2ce6b270309e17c30fb52           0 2019-01-20 10:15:00   \n",
       "13717811bd7f59aaa7f2bc1837b6d024e16163a2           2 2019-01-03 22:15:00   \n",
       "137178fb62c3e326adfc078fa1a8275ecffcedb1           5 2019-02-11 05:45:00   \n",
       "1371794988a3faa617417f5d865ace5b12e1953f           6 2019-03-17 00:15:00   \n",
       "1371796290805afb8fa8c5b55e76e48ef47a2eec           7 2019-02-12 19:00:00   \n",
       "\n",
       "                                                    end_time  trip_seconds  \\\n",
       "trip_id                                                                      \n",
       "1371779686b5076f0ef2ce6b270309e17c30fb52 2019-01-20 10:30:00           512   \n",
       "13717811bd7f59aaa7f2bc1837b6d024e16163a2 2019-01-03 22:30:00           600   \n",
       "137178fb62c3e326adfc078fa1a8275ecffcedb1 2019-02-11 05:45:00           378   \n",
       "1371794988a3faa617417f5d865ace5b12e1953f 2019-03-17 00:15:00           307   \n",
       "1371796290805afb8fa8c5b55e76e48ef47a2eec 2019-02-12 19:00:00           382   \n",
       "\n",
       "                                          trip_miles  fare  tip  \\\n",
       "trip_id                                                           \n",
       "1371779686b5076f0ef2ce6b270309e17c30fb52         2.1  10.0    0   \n",
       "13717811bd7f59aaa7f2bc1837b6d024e16163a2         4.4  10.0    1   \n",
       "137178fb62c3e326adfc078fa1a8275ecffcedb1         1.6   5.0    0   \n",
       "1371794988a3faa617417f5d865ace5b12e1953f         0.7   5.0    0   \n",
       "1371796290805afb8fa8c5b55e76e48ef47a2eec         1.6   5.0    0   \n",
       "\n",
       "                                          additional_charges  trip_total  \\\n",
       "trip_id                                                                    \n",
       "1371779686b5076f0ef2ce6b270309e17c30fb52                2.55       12.55   \n",
       "13717811bd7f59aaa7f2bc1837b6d024e16163a2                2.55       13.55   \n",
       "137178fb62c3e326adfc078fa1a8275ecffcedb1                2.55        7.55   \n",
       "1371794988a3faa617417f5d865ace5b12e1953f                2.55        7.55   \n",
       "1371796290805afb8fa8c5b55e76e48ef47a2eec                0.00        5.00   \n",
       "\n",
       "                                          shared_trip  trips_pooled  \\\n",
       "trip_id                                                               \n",
       "1371779686b5076f0ef2ce6b270309e17c30fb52        False             1   \n",
       "13717811bd7f59aaa7f2bc1837b6d024e16163a2        False             1   \n",
       "137178fb62c3e326adfc078fa1a8275ecffcedb1        False             1   \n",
       "1371794988a3faa617417f5d865ace5b12e1953f        False             1   \n",
       "1371796290805afb8fa8c5b55e76e48ef47a2eec         True             1   \n",
       "\n",
       "                                          pickup_lat  pickup_long  \\\n",
       "trip_id                                                             \n",
       "1371779686b5076f0ef2ce6b270309e17c30fb52   41.943155   -87.640698   \n",
       "13717811bd7f59aaa7f2bc1837b6d024e16163a2   41.884768   -87.684147   \n",
       "137178fb62c3e326adfc078fa1a8275ecffcedb1   41.944227   -87.655998   \n",
       "1371794988a3faa617417f5d865ace5b12e1953f   41.907520   -87.626659   \n",
       "1371796290805afb8fa8c5b55e76e48ef47a2eec   41.907520   -87.626659   \n",
       "\n",
       "                                          dropoff_lat  dropoff_long  \n",
       "trip_id                                                              \n",
       "1371779686b5076f0ef2ce6b270309e17c30fb52    41.922083    -87.634156  \n",
       "13717811bd7f59aaa7f2bc1837b6d024e16163a2    41.893216    -87.637844  \n",
       "137178fb62c3e326adfc078fa1a8275ecffcedb1    41.944227    -87.655998  \n",
       "1371794988a3faa617417f5d865ace5b12e1953f    41.898332    -87.620763  \n",
       "1371796290805afb8fa8c5b55e76e48ef47a2eec    41.921855    -87.646211  "
      ]
     },
     "execution_count": 16,
     "metadata": {},
     "output_type": "execute_result"
    }
   ],
   "source": [
    "rideshares_clean.head()"
   ]
  },
  {
   "cell_type": "code",
   "execution_count": 17,
   "metadata": {},
   "outputs": [
    {
     "data": {
      "image/png": "[encoded data removed]",
      "text/plain": [
       "<Figure size 432x288 with 2 Axes>"
      ]
     },
     "metadata": {
      "needs_background": "light"
     },
     "output_type": "display_data"
    }
   ],
   "source": [
    "# Congestion Data\n",
    "plt.subplot(1, 2, 1)\n",
    "congestion_clean.speed.plot(kind='hist')\n",
    "plt.subplot(1, 2, 2)\n",
    "congestion_clean.speed.plot(kind='box')\n",
    "plt.show()"
   ]
  },
  {
   "cell_type": "code",
   "execution_count": 18,
   "metadata": {},
   "outputs": [
    {
     "data": {
      "image/png": "[encoded data removed]",
      "text/plain": [
       "<Figure size 432x288 with 2 Axes>"
      ]
     },
     "metadata": {
      "needs_background": "light"
     },
     "output_type": "display_data"
    }
   ],
   "source": [
    "# 'L' Station Data\n",
    "plt.subplot(1, 2, 1)\n",
    "station_entries_clean.rides.plot(kind='hist')\n",
    "plt.subplot(1, 2, 2)\n",
    "station_entries_clean.rides.plot(kind='box')\n",
    "plt.show()"
   ]
  },
  {
   "cell_type": "markdown",
   "metadata": {},
   "source": [
    "## Combining Data\n",
    "Now that I have cleaned the data, I combine the 3 datasets into one. Because the datasets have different levels of granularity, I must decide how to sample them to line them up most effectively. The Rideshare dataset has entries for every ride taken, while the congestion dataset has entries throughout the day at irregular intervals, and the 'L' station entries has daily entries. To begin with, I will downsample/upsample all of the datasets to hourly entries. For the rideshares I will count the number of rides in each day, separated into the same regions as the congestion dataset. For the congestion dataset I will average the speed. Finally, for the station dataset I will fill the daily entries data through the day.\n",
    "\n",
    "Additionally, the station dataset will be reindexed to also use the same regions as the congestion dataset, instead of individual stations.\n",
    "\n",
    "Finally, I will limit the entries to the overlapping time frame."
   ]
  },
  {
   "cell_type": "markdown",
   "metadata": {},
   "source": [
    "### Congestion Dataset"
   ]
  },
  {
   "cell_type": "code",
   "execution_count": 3,
   "metadata": {},
   "outputs": [],
   "source": [
    "# Re-read congestion dataset from clean data file\n",
    "congestion_clean = pd.read_csv(\"data/congestion.csv\",\n",
    "                               parse_dates=['time'],\n",
    "                               index_col=['time', 'region_id'],\n",
    "                              )\n",
    "congestion_clean = congestion_clean.sort_index()"
   ]
  },
  {
   "cell_type": "code",
   "execution_count": 4,
   "metadata": {},
   "outputs": [],
   "source": [
    "# regroup the dataframe by the region id and resample with the same 30 minute interval.\n",
    "resampled_congestion_clean = congestion_clean.reset_index(level=1)\n",
    "resampled_congestion_clean = resampled_congestion_clean.groupby(['region_id']).resample('30T').mean()\n",
    "\n",
    "# switch the levels of the multiindex and sort\n",
    "resampled_congestion_clean = resampled_congestion_clean.swaplevel()\n",
    "congestion = resampled_congestion_clean.sort_index()"
   ]
  },
  {
   "cell_type": "code",
   "execution_count": 5,
   "metadata": {},
   "outputs": [
    {
     "name": "stdout",
     "output_type": "stream",
     "text": [
      "<class 'pandas.core.frame.DataFrame'>\n",
      "MultiIndex: 1033183 entries, (Timestamp('2018-03-09 15:30:00', freq='30T'), 1) to (Timestamp('2020-03-20 20:30:00', freq='30T'), 29)\n",
      "Data columns (total 9 columns):\n",
      " #   Column      Non-Null Count   Dtype  \n",
      "---  ------      --------------   -----  \n",
      " 0   region_id   939836 non-null  float64\n",
      " 1   Unnamed: 0  939836 non-null  float64\n",
      " 2   speed       939836 non-null  float64\n",
      " 3   bus_count   939836 non-null  float64\n",
      " 4   num_reads   939836 non-null  float64\n",
      " 5   west        939836 non-null  float64\n",
      " 6   east        939836 non-null  float64\n",
      " 7   south       939836 non-null  float64\n",
      " 8   north       939836 non-null  float64\n",
      "dtypes: float64(9)\n",
      "memory usage: 76.1 MB\n"
     ]
    }
   ],
   "source": [
    "congestion.info()"
   ]
  },
  {
   "cell_type": "code",
   "execution_count": 18,
   "metadata": {},
   "outputs": [],
   "source": [
    "# Save congestion subset\n",
    "congestion.to_csv('data/full_congestion_subset.csv')"
   ]
  },
  {
   "cell_type": "markdown",
   "metadata": {},
   "source": [
    "### Extract region coordinates\n",
    "\n",
    "In order to map the station and ridesharing datasets to the congestion datasets regions, I need to extract the region coordinates from the congestion dataset"
   ]
  },
  {
   "cell_type": "code",
   "execution_count": 6,
   "metadata": {},
   "outputs": [],
   "source": [
    "# Select the first time entry in the dataframe\n",
    "region_map = congestion.loc['2018-03-09 15:30:00']\n",
    "\n",
    "# Remove time as an index\n",
    "region_map = region_map.reset_index(0)\n",
    "\n",
    "# Drop unneeded columns\n",
    "region_map = region_map.drop(columns=['time', 'region_id', 'Unnamed: 0', 'speed', 'bus_count', 'num_reads'])"
   ]
  },
  {
   "cell_type": "code",
   "execution_count": 7,
   "metadata": {},
   "outputs": [
    {
     "data": {
      "text/html": [
       "<div>\n",
       "<style scoped>\n",
       "    .dataframe tbody tr th:only-of-type {\n",
       "        vertical-align: middle;\n",
       "    }\n",
       "\n",
       "    .dataframe tbody tr th {\n",
       "        vertical-align: top;\n",
       "    }\n",
       "\n",
       "    .dataframe thead th {\n",
       "        text-align: right;\n",
       "    }\n",
       "</style>\n",
       "<table border=\"1\" class=\"dataframe\">\n",
       "  <thead>\n",
       "    <tr style=\"text-align: right;\">\n",
       "      <th></th>\n",
       "      <th>west</th>\n",
       "      <th>east</th>\n",
       "      <th>south</th>\n",
       "      <th>north</th>\n",
       "    </tr>\n",
       "    <tr>\n",
       "      <th>region_id</th>\n",
       "      <th></th>\n",
       "      <th></th>\n",
       "      <th></th>\n",
       "      <th></th>\n",
       "    </tr>\n",
       "  </thead>\n",
       "  <tbody>\n",
       "    <tr>\n",
       "      <th>1</th>\n",
       "      <td>-87.709645</td>\n",
       "      <td>-87.654561</td>\n",
       "      <td>41.997946</td>\n",
       "      <td>42.026444</td>\n",
       "    </tr>\n",
       "    <tr>\n",
       "      <th>2</th>\n",
       "      <td>-87.846210</td>\n",
       "      <td>-87.747456</td>\n",
       "      <td>41.960669</td>\n",
       "      <td>42.019100</td>\n",
       "    </tr>\n",
       "    <tr>\n",
       "      <th>3</th>\n",
       "      <td>-87.747456</td>\n",
       "      <td>-87.674590</td>\n",
       "      <td>41.960669</td>\n",
       "      <td>41.997946</td>\n",
       "    </tr>\n",
       "    <tr>\n",
       "      <th>4</th>\n",
       "      <td>-87.674590</td>\n",
       "      <td>-87.646438</td>\n",
       "      <td>41.960669</td>\n",
       "      <td>41.997946</td>\n",
       "    </tr>\n",
       "    <tr>\n",
       "      <th>5</th>\n",
       "      <td>-87.846210</td>\n",
       "      <td>-87.747456</td>\n",
       "      <td>41.909269</td>\n",
       "      <td>41.960669</td>\n",
       "    </tr>\n",
       "  </tbody>\n",
       "</table>\n",
       "</div>"
      ],
      "text/plain": [
       "                west       east      south      north\n",
       "region_id                                            \n",
       "1         -87.709645 -87.654561  41.997946  42.026444\n",
       "2         -87.846210 -87.747456  41.960669  42.019100\n",
       "3         -87.747456 -87.674590  41.960669  41.997946\n",
       "4         -87.674590 -87.646438  41.960669  41.997946\n",
       "5         -87.846210 -87.747456  41.909269  41.960669"
      ]
     },
     "execution_count": 7,
     "metadata": {},
     "output_type": "execute_result"
    }
   ],
   "source": [
    "region_map.head()"
   ]
  },
  {
   "cell_type": "markdown",
   "metadata": {},
   "source": [
    "### Station Dataset"
   ]
  },
  {
   "cell_type": "code",
   "execution_count": 8,
   "metadata": {},
   "outputs": [],
   "source": [
    "# Re-read station dataset from clean data file, using a numerical index instead of the defined indices to allow for grouping\n",
    "station_entries_clean = pd.read_csv(\"data/station_entries.csv\",\n",
    "                                    parse_dates=['date'],\n",
    "                                   )\n",
    "\n",
    "# Add date as an index and sort, then slice on the dates that overlap with the congestion dataset\n",
    "station_entries_clean = station_entries_clean.set_index(['date', station_entries_clean.columns[0]])\n",
    "station_entries_clean = station_entries_clean.sort_index()\n",
    "station_entries_clean = station_entries_clean.loc[(slice('2018-03-09', '2020-03-09'), slice(None)), :]"
   ]
  },
  {
   "cell_type": "code",
   "execution_count": 9,
   "metadata": {},
   "outputs": [],
   "source": [
    "# regroup the dataframe by the station id and resample with the same 30 minute interval.\n",
    "resampled_station_entries_clean = station_entries_clean.reset_index(level=1)\n",
    "resampled_station_entries_clean = resampled_station_entries_clean.groupby(['station_id']).resample('30T').ffill()\n",
    "\n",
    "# switch the levels of the multiindex and sort\n",
    "resampled_station_entries_clean = resampled_station_entries_clean.swaplevel()\n",
    "resampled_station_entries_clean = resampled_station_entries_clean.sort_index()"
   ]
  },
  {
   "cell_type": "code",
   "execution_count": 10,
   "metadata": {},
   "outputs": [
    {
     "data": {
      "text/html": [
       "<div>\n",
       "<style scoped>\n",
       "    .dataframe tbody tr th:only-of-type {\n",
       "        vertical-align: middle;\n",
       "    }\n",
       "\n",
       "    .dataframe tbody tr th {\n",
       "        vertical-align: top;\n",
       "    }\n",
       "\n",
       "    .dataframe thead th {\n",
       "        text-align: right;\n",
       "    }\n",
       "</style>\n",
       "<table border=\"1\" class=\"dataframe\">\n",
       "  <thead>\n",
       "    <tr style=\"text-align: right;\">\n",
       "      <th></th>\n",
       "      <th></th>\n",
       "      <th>Unnamed: 0</th>\n",
       "      <th>station_id</th>\n",
       "      <th>station_name</th>\n",
       "      <th>rides</th>\n",
       "    </tr>\n",
       "    <tr>\n",
       "      <th>date</th>\n",
       "      <th>station_id</th>\n",
       "      <th></th>\n",
       "      <th></th>\n",
       "      <th></th>\n",
       "      <th></th>\n",
       "    </tr>\n",
       "  </thead>\n",
       "  <tbody>\n",
       "    <tr>\n",
       "      <th rowspan=\"5\" valign=\"top\">2018-03-09</th>\n",
       "      <th>40010</th>\n",
       "      <td>896380</td>\n",
       "      <td>40010</td>\n",
       "      <td>Austin-Forest Park</td>\n",
       "      <td>1854</td>\n",
       "    </tr>\n",
       "    <tr>\n",
       "      <th>40020</th>\n",
       "      <td>884855</td>\n",
       "      <td>40020</td>\n",
       "      <td>Harlem-Lake</td>\n",
       "      <td>3660</td>\n",
       "    </tr>\n",
       "    <tr>\n",
       "      <th>40030</th>\n",
       "      <td>884527</td>\n",
       "      <td>40030</td>\n",
       "      <td>Pulaski-Lake</td>\n",
       "      <td>1337</td>\n",
       "    </tr>\n",
       "    <tr>\n",
       "      <th>40040</th>\n",
       "      <td>892953</td>\n",
       "      <td>40040</td>\n",
       "      <td>Quincy/Wells</td>\n",
       "      <td>7371</td>\n",
       "    </tr>\n",
       "    <tr>\n",
       "      <th>40050</th>\n",
       "      <td>893818</td>\n",
       "      <td>40050</td>\n",
       "      <td>Davis</td>\n",
       "      <td>3824</td>\n",
       "    </tr>\n",
       "  </tbody>\n",
       "</table>\n",
       "</div>"
      ],
      "text/plain": [
       "                       Unnamed: 0  station_id        station_name  rides\n",
       "date       station_id                                                   \n",
       "2018-03-09 40010           896380       40010  Austin-Forest Park   1854\n",
       "           40020           884855       40020         Harlem-Lake   3660\n",
       "           40030           884527       40030        Pulaski-Lake   1337\n",
       "           40040           892953       40040        Quincy/Wells   7371\n",
       "           40050           893818       40050               Davis   3824"
      ]
     },
     "execution_count": 10,
     "metadata": {},
     "output_type": "execute_result"
    }
   ],
   "source": [
    "resampled_station_entries_clean.head()"
   ]
  },
  {
   "cell_type": "code",
   "execution_count": 11,
   "metadata": {},
   "outputs": [],
   "source": [
    "# Extract list of all station name/id pairs\n",
    "station_ids = resampled_station_entries_clean.station_id.unique()\n",
    "station_names = resampled_station_entries_clean.station_name.unique()\n",
    "\n",
    "#convert to dataframe\n",
    "all_stations = pd.DataFrame(station_names, columns=['station_name'], index=station_ids)"
   ]
  },
  {
   "cell_type": "markdown",
   "metadata": {},
   "source": [
    "Now that I have all of the stations, I need to find their coordinates and add them to the dataframe. I do this with the google maps geocoding API"
   ]
  },
  {
   "cell_type": "code",
   "execution_count": 12,
   "metadata": {},
   "outputs": [],
   "source": [
    "# importing api key and setting up for api call\n",
    "from keys import googleapi\n",
    "import requests\n",
    "url = 'https://maps.googleapis.com/maps/api/geocode/json'"
   ]
  },
  {
   "cell_type": "code",
   "execution_count": 13,
   "metadata": {},
   "outputs": [],
   "source": [
    "# create function to get lat and long from the api using the station name\n",
    "def get_coords( station_name ):\n",
    "    \"\"\"Returns the latitude and longitude of the station as a tuple, or false\"\"\"\n",
    "    try:\n",
    "        response = requests.get(url+'?address='+station_name+' Station Chicago&key='+googleapi.key)\n",
    "        location = response.json()['results'][0]['geometry']['location']\n",
    "        coords = (location['lat'], location['lng'])\n",
    "        return coords\n",
    "    except:\n",
    "        return false\n",
    "\n",
    "# Find the coordinates using the api\n",
    "coords = [get_coords(station_name) for station_name in all_stations.station_name]\n",
    "\n",
    "# Split the coorinates into lat and long lists\n",
    "lat, long = zip(*coords)"
   ]
  },
  {
   "cell_type": "code",
   "execution_count": 14,
   "metadata": {},
   "outputs": [
    {
     "data": {
      "text/html": [
       "<div>\n",
       "<style scoped>\n",
       "    .dataframe tbody tr th:only-of-type {\n",
       "        vertical-align: middle;\n",
       "    }\n",
       "\n",
       "    .dataframe tbody tr th {\n",
       "        vertical-align: top;\n",
       "    }\n",
       "\n",
       "    .dataframe thead th {\n",
       "        text-align: right;\n",
       "    }\n",
       "</style>\n",
       "<table border=\"1\" class=\"dataframe\">\n",
       "  <thead>\n",
       "    <tr style=\"text-align: right;\">\n",
       "      <th></th>\n",
       "      <th>station_name</th>\n",
       "      <th>lat</th>\n",
       "      <th>long</th>\n",
       "    </tr>\n",
       "  </thead>\n",
       "  <tbody>\n",
       "    <tr>\n",
       "      <th>40010</th>\n",
       "      <td>Austin-Forest Park</td>\n",
       "      <td>41.870873</td>\n",
       "      <td>-87.776486</td>\n",
       "    </tr>\n",
       "    <tr>\n",
       "      <th>40020</th>\n",
       "      <td>Harlem-Lake</td>\n",
       "      <td>41.886872</td>\n",
       "      <td>-87.803959</td>\n",
       "    </tr>\n",
       "    <tr>\n",
       "      <th>40030</th>\n",
       "      <td>Pulaski-Lake</td>\n",
       "      <td>41.885567</td>\n",
       "      <td>-87.726692</td>\n",
       "    </tr>\n",
       "    <tr>\n",
       "      <th>40040</th>\n",
       "      <td>Quincy/Wells</td>\n",
       "      <td>41.878846</td>\n",
       "      <td>-87.633887</td>\n",
       "    </tr>\n",
       "    <tr>\n",
       "      <th>40050</th>\n",
       "      <td>Davis</td>\n",
       "      <td>42.047986</td>\n",
       "      <td>-87.684652</td>\n",
       "    </tr>\n",
       "  </tbody>\n",
       "</table>\n",
       "</div>"
      ],
      "text/plain": [
       "             station_name        lat       long\n",
       "40010  Austin-Forest Park  41.870873 -87.776486\n",
       "40020         Harlem-Lake  41.886872 -87.803959\n",
       "40030        Pulaski-Lake  41.885567 -87.726692\n",
       "40040        Quincy/Wells  41.878846 -87.633887\n",
       "40050               Davis  42.047986 -87.684652"
      ]
     },
     "execution_count": 14,
     "metadata": {},
     "output_type": "execute_result"
    }
   ],
   "source": [
    "# Finally, add the lat and long lists as columns to the stations dataframe\n",
    "all_stations['lat'] = lat\n",
    "all_stations['long'] = long\n",
    "all_stations.head()"
   ]
  },
  {
   "cell_type": "markdown",
   "metadata": {},
   "source": [
    "Now that I have mapped the stations to their coordinates, I can map them to their region, as extracted from the congestion dataset"
   ]
  },
  {
   "cell_type": "code",
   "execution_count": 15,
   "metadata": {},
   "outputs": [],
   "source": [
    "# create function to match station to region\n",
    "def find_station_region( station_id ):\n",
    "    '''Returns region id matching the station coordinates, or 0 if no matching region'''\n",
    "    lat, long = (all_stations.loc[station_id, 'lat'], all_stations.loc[station_id, 'long'])\n",
    "    for region in region_map.iterrows():\n",
    "        if (lat >= region[1]['south'] and lat <= region[1]['north'] and long >= region[1]['west'] and long <= region[1]['east']):\n",
    "            return region[0]\n",
    "    return 0"
   ]
  },
  {
   "cell_type": "code",
   "execution_count": 16,
   "metadata": {},
   "outputs": [],
   "source": [
    "# create list of regions for all the stations\n",
    "station_regions = [find_station_region(station_index[1])\n",
    "                   for station_index\n",
    "                   in resampled_station_entries_clean.index]"
   ]
  },
  {
   "cell_type": "code",
   "execution_count": 17,
   "metadata": {},
   "outputs": [
    {
     "data": {
      "text/html": [
       "<div>\n",
       "<style scoped>\n",
       "    .dataframe tbody tr th:only-of-type {\n",
       "        vertical-align: middle;\n",
       "    }\n",
       "\n",
       "    .dataframe tbody tr th {\n",
       "        vertical-align: top;\n",
       "    }\n",
       "\n",
       "    .dataframe thead th {\n",
       "        text-align: right;\n",
       "    }\n",
       "</style>\n",
       "<table border=\"1\" class=\"dataframe\">\n",
       "  <thead>\n",
       "    <tr style=\"text-align: right;\">\n",
       "      <th></th>\n",
       "      <th></th>\n",
       "      <th>Unnamed: 0</th>\n",
       "      <th>station_id</th>\n",
       "      <th>station_name</th>\n",
       "      <th>rides</th>\n",
       "      <th>region_id</th>\n",
       "    </tr>\n",
       "    <tr>\n",
       "      <th>date</th>\n",
       "      <th>station_id</th>\n",
       "      <th></th>\n",
       "      <th></th>\n",
       "      <th></th>\n",
       "      <th></th>\n",
       "      <th></th>\n",
       "    </tr>\n",
       "  </thead>\n",
       "  <tbody>\n",
       "    <tr>\n",
       "      <th rowspan=\"5\" valign=\"top\">2018-03-09</th>\n",
       "      <th>40010</th>\n",
       "      <td>896380</td>\n",
       "      <td>40010</td>\n",
       "      <td>Austin-Forest Park</td>\n",
       "      <td>1854</td>\n",
       "      <td>0</td>\n",
       "    </tr>\n",
       "    <tr>\n",
       "      <th>40020</th>\n",
       "      <td>884855</td>\n",
       "      <td>40020</td>\n",
       "      <td>Harlem-Lake</td>\n",
       "      <td>3660</td>\n",
       "      <td>0</td>\n",
       "    </tr>\n",
       "    <tr>\n",
       "      <th>40030</th>\n",
       "      <td>884527</td>\n",
       "      <td>40030</td>\n",
       "      <td>Pulaski-Lake</td>\n",
       "      <td>1337</td>\n",
       "      <td>10</td>\n",
       "    </tr>\n",
       "    <tr>\n",
       "      <th>40040</th>\n",
       "      <td>892953</td>\n",
       "      <td>40040</td>\n",
       "      <td>Quincy/Wells</td>\n",
       "      <td>7371</td>\n",
       "      <td>13</td>\n",
       "    </tr>\n",
       "    <tr>\n",
       "      <th>40050</th>\n",
       "      <td>893818</td>\n",
       "      <td>40050</td>\n",
       "      <td>Davis</td>\n",
       "      <td>3824</td>\n",
       "      <td>0</td>\n",
       "    </tr>\n",
       "  </tbody>\n",
       "</table>\n",
       "</div>"
      ],
      "text/plain": [
       "                       Unnamed: 0  station_id        station_name  rides  \\\n",
       "date       station_id                                                      \n",
       "2018-03-09 40010           896380       40010  Austin-Forest Park   1854   \n",
       "           40020           884855       40020         Harlem-Lake   3660   \n",
       "           40030           884527       40030        Pulaski-Lake   1337   \n",
       "           40040           892953       40040        Quincy/Wells   7371   \n",
       "           40050           893818       40050               Davis   3824   \n",
       "\n",
       "                       region_id  \n",
       "date       station_id             \n",
       "2018-03-09 40010               0  \n",
       "           40020               0  \n",
       "           40030              10  \n",
       "           40040              13  \n",
       "           40050               0  "
      ]
     },
     "execution_count": 17,
     "metadata": {},
     "output_type": "execute_result"
    }
   ],
   "source": [
    "# Add the list to the stations dataframe\n",
    "resampled_station_entries_clean['region_id'] = station_regions\n",
    "resampled_station_entries_clean.head()"
   ]
  },
  {
   "cell_type": "code",
   "execution_count": 19,
   "metadata": {},
   "outputs": [
    {
     "data": {
      "text/html": [
       "<div>\n",
       "<style scoped>\n",
       "    .dataframe tbody tr th:only-of-type {\n",
       "        vertical-align: middle;\n",
       "    }\n",
       "\n",
       "    .dataframe tbody tr th {\n",
       "        vertical-align: top;\n",
       "    }\n",
       "\n",
       "    .dataframe thead th {\n",
       "        text-align: right;\n",
       "    }\n",
       "</style>\n",
       "<table border=\"1\" class=\"dataframe\">\n",
       "  <thead>\n",
       "    <tr style=\"text-align: right;\">\n",
       "      <th></th>\n",
       "      <th></th>\n",
       "      <th>rides</th>\n",
       "    </tr>\n",
       "    <tr>\n",
       "      <th>date</th>\n",
       "      <th>region_id</th>\n",
       "      <th></th>\n",
       "    </tr>\n",
       "  </thead>\n",
       "  <tbody>\n",
       "    <tr>\n",
       "      <th rowspan=\"5\" valign=\"top\">2018-03-09</th>\n",
       "      <th>0</th>\n",
       "      <td>63338</td>\n",
       "    </tr>\n",
       "    <tr>\n",
       "      <th>1</th>\n",
       "      <td>16035</td>\n",
       "    </tr>\n",
       "    <tr>\n",
       "      <th>2</th>\n",
       "      <td>14927</td>\n",
       "    </tr>\n",
       "    <tr>\n",
       "      <th>3</th>\n",
       "      <td>15011</td>\n",
       "    </tr>\n",
       "    <tr>\n",
       "      <th>4</th>\n",
       "      <td>27565</td>\n",
       "    </tr>\n",
       "  </tbody>\n",
       "</table>\n",
       "</div>"
      ],
      "text/plain": [
       "                      rides\n",
       "date       region_id       \n",
       "2018-03-09 0          63338\n",
       "           1          16035\n",
       "           2          14927\n",
       "           3          15011\n",
       "           4          27565"
      ]
     },
     "execution_count": 19,
     "metadata": {},
     "output_type": "execute_result"
    }
   ],
   "source": [
    "# aggregate the dataframe on the regions\n",
    "station_entries = pd.DataFrame(resampled_station_entries_clean.groupby(['date', 'region_id'])['rides'].sum())\n",
    "station_entries.head()"
   ]
  },
  {
   "cell_type": "markdown",
   "metadata": {},
   "source": [
    "Finally, I can slice the dataframe to only select the exact overlap with the congestion dataset, and remove the stations that are not in a region (region 0)"
   ]
  },
  {
   "cell_type": "code",
   "execution_count": 20,
   "metadata": {},
   "outputs": [],
   "source": [
    "station_entries = station_entries.loc[(slice('2018-03-09 15:30:00', '2020-03-09 09:00:00'), slice(1, 29)), :]"
   ]
  },
  {
   "cell_type": "code",
   "execution_count": 21,
   "metadata": {},
   "outputs": [
    {
     "name": "stdout",
     "output_type": "stream",
     "text": [
      "<class 'pandas.core.frame.DataFrame'>\n",
      "MultiIndex: 698412 entries, (Timestamp('2018-03-09 15:30:00'), 1) to (Timestamp('2019-12-31 00:00:00'), 29)\n",
      "Data columns (total 1 columns):\n",
      " #   Column  Non-Null Count   Dtype\n",
      "---  ------  --------------   -----\n",
      " 0   rides   698412 non-null  int64\n",
      "dtypes: int64(1)\n",
      "memory usage: 7.6 MB\n"
     ]
    }
   ],
   "source": [
    "station_entries.info()"
   ]
  },
  {
   "cell_type": "code",
   "execution_count": 22,
   "metadata": {},
   "outputs": [],
   "source": [
    "# Save station subset\n",
    "station_entries.to_csv('data/full_station_entries_subset.csv')"
   ]
  },
  {
   "cell_type": "markdown",
   "metadata": {},
   "source": [
    "### Rideshare dataset"
   ]
  },
  {
   "cell_type": "code",
   "execution_count": 23,
   "metadata": {},
   "outputs": [],
   "source": [
    "# Re-read rideshare dataset from clean data file\n",
    "rideshares_reader = pd.read_csv(\"data/rideshares.csv\", \n",
    "                               parse_dates=['start_time', 'end_time'], \n",
    "                               index_col=['start_time', 'trip_id'],\n",
    "                               iterator=True,\n",
    "                               chunksize=10000\n",
    "                              )"
   ]
  },
  {
   "cell_type": "markdown",
   "metadata": {},
   "source": [
    "Similar to the station dataset, I need to determine in which, if any, region each trip starts. To speed up the function a little, I will find the N/S/E/W bounds such that any locations outside of those bounds will be guaranteed not to be in a defined region, allowing the loop to skip that trip."
   ]
  },
  {
   "cell_type": "code",
   "execution_count": 24,
   "metadata": {},
   "outputs": [],
   "source": [
    "# Find the total region boundary\n",
    "north_bound = max(region_map.north)\n",
    "south_bound = min(region_map.south)\n",
    "east_bound = max(region_map.east)\n",
    "west_bound = min(region_map.west)\n",
    "\n",
    "# Create function to match trip to region\n",
    "def find_trip_region( trip_id, rideshare_chunk ):\n",
    "    '''Returns region id matching the trip coordinates, or 0 if no matching region'''\n",
    "    lat = float(rideshare_chunk.loc[(slice(None), trip_id), 'pickup_lat'])\n",
    "    long = float(rideshare_chunk.loc[(slice(None), trip_id), 'pickup_long'])\n",
    "    \n",
    "    # If the start location is outside of the total region boundary, return 0\n",
    "    if (lat > north_bound\n",
    "           or lat < south_bound\n",
    "           or long > east_bound\n",
    "           or long < west_bound):\n",
    "        return 0\n",
    "    \n",
    "    for region in region_map.iterrows():\n",
    "        if (lat >= region[1]['south']\n",
    "                and lat <= region[1]['north']\n",
    "                and long >= region[1]['west']\n",
    "                and long <= region[1]['east']):\n",
    "            return region[0]\n",
    "    return 0"
   ]
  },
  {
   "cell_type": "code",
   "execution_count": null,
   "metadata": {},
   "outputs": [],
   "source": [
    "# Rideshare Processing\n",
    "firstChunk = True\n",
    "for rideshares_chunk in rideshares_reader:\n",
    "\n",
    "    # Add date as an index and sort, then slice on the dates that overlap with the congestion dataset\n",
    "    rideshares_chunk.rename_axis([\"date\", 'trip_id'], axis='index', inplace=True)\n",
    "    rideshares_chunk = rideshares_chunk.sort_index()\n",
    "    rideshares_chunk = rideshares_chunk.loc[(slice('2018-03-09', '2020-03-09'), slice(None)), :]\n",
    "\n",
    "    # create list of regions for all the trips\n",
    "    trip_regions = [find_trip_region(trip_index[1], rideshares_chunk) for trip_index in rideshares_chunk.index]\n",
    "\n",
    "    # Add the list to the stations dataframe\n",
    "    rideshares_chunk['region_id'] = trip_regions\n",
    "\n",
    "    # Resample on start time to match the 30 minutes sample rate of the other datasets\n",
    "    rideshares_chunk = rideshares_chunk.reset_index(level=1)\n",
    "    rideshares_count = pd.DataFrame(rideshares_chunk.groupby('region_id').resample('30T').count().end_time)\n",
    "    rideshares_mean = pd.DataFrame(rideshares_chunk.groupby('region_id').resample('30T').mean())\n",
    "\n",
    "    # aggregate the dataframe on the regions and resample on start time\n",
    "    rideshares_count.columns = ['trips']\n",
    "    rideshares_mean = rideshares_mean.loc[(slice(None), slice(None)), 'trip_seconds':'trips_pooled']\n",
    "    \n",
    "    if firstChunk:\n",
    "        rideshares_aggregate_count = rideshares_count.copy()\n",
    "        #rideshares_aggregate_count.columns = ['trips']\n",
    "        rideshares_aggregate_mean = rideshares_mean.copy()\n",
    "    else:\n",
    "        rideshares_aggregate_count = pd.DataFrame(pd.merge(rideshares_aggregate_count, rideshares_count, left_index=True, right_index=True).sum(axis=1))\n",
    "        rideshares_aggregate_mean = pd.DataFrame(pd.merge(rideshares_aggregate_mean, rideshares_mean, left_index=True, right_index=True).mean(axis=1))\n",
    "\n",
    "    firstChunk = False\n",
    "    \n",
    "rideshares_aggregate = rideshares_aggreagate_mean.copy()\n",
    "rideshares_aggregate['trips'] = rideshares_aggregate_count"
   ]
  },
  {
   "cell_type": "markdown",
   "metadata": {},
   "source": [
    "Finally, as with the stations dataset, I can slice the dataframe to only select the exact overlap with the congestion dataset, and remove the stations that are not in a region (region 0)"
   ]
  },
  {
   "cell_type": "code",
   "execution_count": null,
   "metadata": {},
   "outputs": [],
   "source": [
    "rideshares = pd.DataFrame(rideshares_aggregate.loc[(slice('2018-03-09 15:30:00', '2020-03-09 09:00:00'), slice(1, 29)), :])\n",
    "# TODO: rename columns for complete rideshare dataset\n",
    "#rideshares.columns = ['trips']\n",
    "rideshares.sort_index()\n",
    "rideshares.info()"
   ]
  },
  {
   "cell_type": "markdown",
   "metadata": {},
   "source": [
    "### All Together\n",
    "\n",
    "Now that the datasets have all been reshaped and resampled into the same form, they can be combined."
   ]
  },
  {
   "cell_type": "code",
   "execution_count": null,
   "metadata": {},
   "outputs": [],
   "source": [
    "# Merge the 3 datasets\n",
    "full_dataset = congestion.copy()\n",
    "# TODO: add other columns from rideshare dataset to full dataset\n",
    "full_dataset['rideshare_trips'] = rideshares.trips\n",
    "full_dataset['station_entries'] = station_entries.rides\n",
    "\n",
    "# Fill any NaN entries in rideshare and station with 0\n",
    "full_dataset.rideshare_trips.fillna(0, inplace=True)\n",
    "full_dataset.station_entries.fillna(0, inplace=True)\n",
    "\n",
    "# Remove duplicate/excess columns\n",
    "full_dataset = full_dataset.drop(columns=['region_id', 'Unnamed: 0'])"
   ]
  },
  {
   "cell_type": "code",
   "execution_count": null,
   "metadata": {},
   "outputs": [],
   "source": [
    "full_dataset.head()"
   ]
  },
  {
   "cell_type": "code",
   "execution_count": null,
   "metadata": {},
   "outputs": [],
   "source": [
    "full_dataset.info()"
   ]
  },
  {
   "cell_type": "code",
   "execution_count": null,
   "metadata": {},
   "outputs": [],
   "source": [
    "full_dataset.to_csv('data/full_dataset.csv')"
   ]
  },
  {
   "cell_type": "code",
   "execution_count": null,
   "metadata": {},
   "outputs": [],
   "source": []
  }
 ],
 "metadata": {
  "kernelspec": {
   "display_name": "Python 3",
   "language": "python",
   "name": "python3"
  },
  "language_info": {
   "codemirror_mode": {
    "name": "ipython",
    "version": 3
   },
   "file_extension": ".py",
   "mimetype": "text/x-python",
   "name": "python",
   "nbconvert_exporter": "python",
   "pygments_lexer": "ipython3",
   "version": "3.7.6"
  }
 },
 "nbformat": 4,
 "nbformat_minor": 2
}
